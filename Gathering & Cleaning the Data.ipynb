{
 "cells": [
  {
   "cell_type": "code",
   "execution_count": 5,
   "metadata": {},
   "outputs": [],
   "source": [
    "import numpy as np\n",
    "import pandas as pd\n",
    "pd.set_option('display.max_columns', 50)\n",
    "pd.set_option('display.max_rows', 50 )\n",
    "import matplotlib.pyplot as plt\n",
    "import seaborn as sns\n",
    "import re\n",
    "\n",
    "sns.set(font_scale=1.5)\n",
    "%config InlineBackend.figure_format = 'retina'\n",
    "%matplotlib inline\n",
    "\n",
    "import pprint\n",
    "pp = pprint.PrettyPrinter(width=41, compact=True)\n",
    "\n",
    "from tqdm import tqdm_notebook as tqdm\n",
    "\n",
    "\n",
    "import warnings\n",
    "warnings.simplefilter('ignore')"
   ]
  },
  {
   "cell_type": "markdown",
   "metadata": {},
   "source": [
    "# part 1 - billboard"
   ]
  },
  {
   "cell_type": "code",
   "execution_count": 132,
   "metadata": {},
   "outputs": [],
   "source": [
    "#https://github.com/guoguo12/billboard-charts\n",
    "data = pd.read_csv('billboard_original.csv')"
   ]
  },
  {
   "cell_type": "code",
   "execution_count": null,
   "metadata": {},
   "outputs": [],
   "source": [
    "billboard = data[['Performer', 'Song', 'WeekID', 'Week Position', 'Instance', 'Weeks on Chart']]\n",
    "billboard.columns = ['artist', 'track_name','weekid','week_position', 'instance', 'weeks_on_chart']"
   ]
  },
  {
   "cell_type": "code",
   "execution_count": 199,
   "metadata": {},
   "outputs": [
    {
     "data": {
      "text/html": [
       "<div>\n",
       "<style scoped>\n",
       "    .dataframe tbody tr th:only-of-type {\n",
       "        vertical-align: middle;\n",
       "    }\n",
       "\n",
       "    .dataframe tbody tr th {\n",
       "        vertical-align: top;\n",
       "    }\n",
       "\n",
       "    .dataframe thead th {\n",
       "        text-align: right;\n",
       "    }\n",
       "</style>\n",
       "<table border=\"1\" class=\"dataframe\">\n",
       "  <thead>\n",
       "    <tr style=\"text-align: right;\">\n",
       "      <th></th>\n",
       "      <th>artist</th>\n",
       "      <th>track_name</th>\n",
       "      <th>weekid</th>\n",
       "      <th>week_position</th>\n",
       "      <th>instance</th>\n",
       "      <th>weeks_on_chart</th>\n",
       "      <th>artist_clean</th>\n",
       "    </tr>\n",
       "  </thead>\n",
       "  <tbody>\n",
       "    <tr>\n",
       "      <td>0</td>\n",
       "      <td>jane child</td>\n",
       "      <td>don't wanna fall in love</td>\n",
       "      <td>2/10/1990</td>\n",
       "      <td>75</td>\n",
       "      <td>1</td>\n",
       "      <td>1</td>\n",
       "      <td>jane child</td>\n",
       "    </tr>\n",
       "    <tr>\n",
       "      <td>1</td>\n",
       "      <td>jane child</td>\n",
       "      <td>don't wanna fall in love</td>\n",
       "      <td>2/17/1990</td>\n",
       "      <td>53</td>\n",
       "      <td>1</td>\n",
       "      <td>2</td>\n",
       "      <td>jane child</td>\n",
       "    </tr>\n",
       "    <tr>\n",
       "      <td>2</td>\n",
       "      <td>jane child</td>\n",
       "      <td>don't wanna fall in love</td>\n",
       "      <td>2/24/1990</td>\n",
       "      <td>43</td>\n",
       "      <td>1</td>\n",
       "      <td>3</td>\n",
       "      <td>jane child</td>\n",
       "    </tr>\n",
       "    <tr>\n",
       "      <td>3</td>\n",
       "      <td>jane child</td>\n",
       "      <td>don't wanna fall in love</td>\n",
       "      <td>3/3/1990</td>\n",
       "      <td>37</td>\n",
       "      <td>1</td>\n",
       "      <td>4</td>\n",
       "      <td>jane child</td>\n",
       "    </tr>\n",
       "    <tr>\n",
       "      <td>4</td>\n",
       "      <td>jane child</td>\n",
       "      <td>don't wanna fall in love</td>\n",
       "      <td>3/10/1990</td>\n",
       "      <td>27</td>\n",
       "      <td>1</td>\n",
       "      <td>5</td>\n",
       "      <td>jane child</td>\n",
       "    </tr>\n",
       "  </tbody>\n",
       "</table>\n",
       "</div>"
      ],
      "text/plain": [
       "       artist                track_name     weekid  week_position  instance  \\\n",
       "0  jane child  don't wanna fall in love  2/10/1990             75         1   \n",
       "1  jane child  don't wanna fall in love  2/17/1990             53         1   \n",
       "2  jane child  don't wanna fall in love  2/24/1990             43         1   \n",
       "3  jane child  don't wanna fall in love   3/3/1990             37         1   \n",
       "4  jane child  don't wanna fall in love  3/10/1990             27         1   \n",
       "\n",
       "   weeks_on_chart artist_clean  \n",
       "0               1   jane child  \n",
       "1               2   jane child  \n",
       "2               3   jane child  \n",
       "3               4   jane child  \n",
       "4               5   jane child  "
      ]
     },
     "execution_count": 199,
     "metadata": {},
     "output_type": "execute_result"
    }
   ],
   "source": [
    "billboard.head()"
   ]
  },
  {
   "cell_type": "code",
   "execution_count": 203,
   "metadata": {},
   "outputs": [
    {
     "name": "stdout",
     "output_type": "stream",
     "text": [
      "1958-08-02 00:00:00\n",
      "2019-06-22 00:00:00\n"
     ]
    }
   ],
   "source": [
    "billboard['weekid'] = pd.to_datetime(billboard['weekid'],format='%m/%d/%Y')\n",
    "pd.DataFrame(billboard['weekid'].value_counts())[pd.DataFrame(billboard['weekid'].value_counts()).weekid != 100]\n",
    "print(billboard.weekid.min())\n",
    "print(billboard.weekid.max())"
   ]
  },
  {
   "cell_type": "code",
   "execution_count": 152,
   "metadata": {},
   "outputs": [
    {
     "data": {
      "text/plain": [
       "(317795, 8)"
      ]
     },
     "execution_count": 152,
     "metadata": {},
     "output_type": "execute_result"
    }
   ],
   "source": [
    "billboard.shape"
   ]
  },
  {
   "cell_type": "markdown",
   "metadata": {},
   "source": [
    "### clean billboard"
   ]
  },
  {
   "cell_type": "code",
   "execution_count": 142,
   "metadata": {},
   "outputs": [],
   "source": [
    "billboard.artist = billboard.artist.apply(lambda x: x.lower())\n",
    "billboard.track_name = billboard.track_name.apply(lambda x: x.lower())"
   ]
  },
  {
   "cell_type": "code",
   "execution_count": 149,
   "metadata": {},
   "outputs": [],
   "source": [
    "billboard['artist_clean'] = billboard.loc[:, 'artist']"
   ]
  },
  {
   "cell_type": "code",
   "execution_count": 150,
   "metadata": {},
   "outputs": [],
   "source": [
    "#billboard['artist_clean'] = billboard['artist_clean'].apply(lambda x: re.sub(r'(\\(feat.*)','', x))\n",
    "billboard.artist_clean =  billboard.artist_clean.apply(lambda x: x.replace('(','').replace(')','')) \n",
    "billboard.artist_clean =  billboard.artist_clean.apply(lambda x: x.replace('[','').replace(']',''))"
   ]
  },
  {
   "cell_type": "markdown",
   "metadata": {},
   "source": [
    "### featuring"
   ]
  },
  {
   "cell_type": "code",
   "execution_count": null,
   "metadata": {},
   "outputs": [],
   "source": [
    "# I could say with certainty that artists listed after 'featuring' would in fact be featuring"
   ]
  },
  {
   "cell_type": "code",
   "execution_count": 151,
   "metadata": {},
   "outputs": [],
   "source": [
    "billboard.artist_clean = billboard.artist_clean.apply(lambda x:  x.split(' featuring ')[0]) \n",
    "billboard.artist_clean = billboard.artist_clean.apply(lambda x:  x.split(' featuring: ')[0]) \n",
    "billboard.artist_clean = billboard.artist_clean.apply(lambda x:  x.split(' feauring ')[0]) \n",
    "billboard.artist_clean = billboard.artist_clean.apply(lambda x:  x.split(' feat. ')[0]) \n",
    "billboard.artist_clean = billboard.artist_clean.apply(lambda x:  x.split(' with ')[0]) \n",
    "billboard.artist_clean = billboard.artist_clean.apply(lambda x:  x.split(' x ')[0]) \n",
    "billboard.artist_clean = billboard.artist_clean.apply(lambda x:  x.split(' starring ')[0]) \n",
    "billboard.artist_clean = billboard.artist_clean.apply(lambda x:  x.split(' co-starring ')[0])"
   ]
  },
  {
   "cell_type": "markdown",
   "metadata": {},
   "source": [
    "### comma"
   ]
  },
  {
   "cell_type": "code",
   "execution_count": null,
   "metadata": {},
   "outputs": [],
   "source": [
    "# However there were several ways of writing feauturing. As we can see in the table below, the comma can be part of the name \n",
    "# (earth, wind & fire) or it can mean featuring (diplo, french montana & lil pump)"
   ]
  },
  {
   "cell_type": "code",
   "execution_count": 156,
   "metadata": {},
   "outputs": [
    {
     "data": {
      "text/html": [
       "<div>\n",
       "<style scoped>\n",
       "    .dataframe tbody tr th:only-of-type {\n",
       "        vertical-align: middle;\n",
       "    }\n",
       "\n",
       "    .dataframe tbody tr th {\n",
       "        vertical-align: top;\n",
       "    }\n",
       "\n",
       "    .dataframe thead th {\n",
       "        text-align: right;\n",
       "    }\n",
       "</style>\n",
       "<table border=\"1\" class=\"dataframe\">\n",
       "  <thead>\n",
       "    <tr style=\"text-align: right;\">\n",
       "      <th></th>\n",
       "      <th>artist</th>\n",
       "      <th>track_name</th>\n",
       "      <th>weekid</th>\n",
       "      <th>week_position</th>\n",
       "      <th>instance</th>\n",
       "      <th>weeks_on_chart</th>\n",
       "      <th>artist_clean</th>\n",
       "    </tr>\n",
       "  </thead>\n",
       "  <tbody>\n",
       "    <tr>\n",
       "      <td>823</td>\n",
       "      <td>earth, wind &amp; fire</td>\n",
       "      <td>mighty mighty</td>\n",
       "      <td>3/16/1974</td>\n",
       "      <td>86</td>\n",
       "      <td>1</td>\n",
       "      <td>2</td>\n",
       "      <td>earth, wind &amp; fire</td>\n",
       "    </tr>\n",
       "    <tr>\n",
       "      <td>15098</td>\n",
       "      <td>earth, wind &amp; fire with the emotions</td>\n",
       "      <td>boogie wonderland</td>\n",
       "      <td>5/12/1979</td>\n",
       "      <td>69</td>\n",
       "      <td>1</td>\n",
       "      <td>1</td>\n",
       "      <td>earth, wind &amp; fire</td>\n",
       "    </tr>\n",
       "    <tr>\n",
       "      <td>252376</td>\n",
       "      <td>diplo, french montana &amp; lil pump featuring zha...</td>\n",
       "      <td>welcome to the party</td>\n",
       "      <td>6/2/2018</td>\n",
       "      <td>84</td>\n",
       "      <td>1</td>\n",
       "      <td>1</td>\n",
       "      <td>diplo, french montana &amp; lil pump</td>\n",
       "    </tr>\n",
       "  </tbody>\n",
       "</table>\n",
       "</div>"
      ],
      "text/plain": [
       "                                                   artist  \\\n",
       "823                                    earth, wind & fire   \n",
       "15098                earth, wind & fire with the emotions   \n",
       "252376  diplo, french montana & lil pump featuring zha...   \n",
       "\n",
       "                  track_name     weekid  week_position  instance  \\\n",
       "823            mighty mighty  3/16/1974             86         1   \n",
       "15098      boogie wonderland  5/12/1979             69         1   \n",
       "252376  welcome to the party   6/2/2018             84         1   \n",
       "\n",
       "        weeks_on_chart                      artist_clean  \n",
       "823                  2                earth, wind & fire  \n",
       "15098                1                earth, wind & fire  \n",
       "252376               1  diplo, french montana & lil pump  "
      ]
     },
     "execution_count": 156,
     "metadata": {},
     "output_type": "execute_result"
    }
   ],
   "source": [
    "billboard[(billboard.artist_clean == 'diplo, french montana & lil pump')|(billboard.artist_clean == \n",
    "                                        'earth, wind & fire')].drop_duplicates(subset='artist')"
   ]
  },
  {
   "cell_type": "code",
   "execution_count": null,
   "metadata": {},
   "outputs": [],
   "source": [
    "# so i made some lists of when the comma is part of the name and when it means featuring"
   ]
  },
  {
   "cell_type": "code",
   "execution_count": 28,
   "metadata": {},
   "outputs": [],
   "source": [
    "meaningful_comma = ['earth, wind & fire', 'ray, goodman & brown', 'crosby, stills & nash', 'peter, paul & mary', \n",
    "'mcguinn, clark & hillman',  'emerson, lake & palmer',  'blood, sweat & tears',  'ray, goodman & brown',\n",
    "'crosby, stills, nash & young',  'artists of then, now & forever', 'hamilton, joe frank & reynolds', \n",
    "'tyler, the creator', 'isley, jasper, isley', 'lipps, inc.', 'dino, desi & billy', 'the checkmates, ltd.',\n",
    "'cotton, lloyd & christian', 'emerson, lake & powell', 'bobby pedrick, jr.', 'dave dee, dozy, beaky, mick and tich']\n",
    "\n",
    "feat_comma = ['benny blanco, halsey & khalid',  'benny blanco, tainy, selena gomez & j balvin', \n",
    "'casper magico, nio garcia, darell, nicky jam, ozuna & bad bunny', 'diplo, french montana & lil pump',\n",
    " 'farruko, nicki minaj, bad bunny, 21 savage & rvssian', 'jay rock, kendrick lamar, future & james blake',\n",
    "'joe sherman, his orchestra and chorus',  'kristen bell, agatha lee monn & katie lopez',\n",
    " 'lunay, daddy yankee & bad bunny', 'ross lynch, grace phipps and jason evigan',\n",
    "     'sofia carson, cameron boyce, booboo stewart & mitchell hope']\n",
    "\n",
    "miscellaneous_comma = {'g. dep, p. diddy & black rob':'g. dep', 'ramsey lewis and earth, wind & fire':'ramsey lewis',\n",
    "'hugh jackman, keala settle, zac efron, zendaya & the greatest showman ensemble':'the greatest showman ensemble',  \n",
    "'barry devorzon and perry botkin, jr.':'barry devorzon',  \"r.l., snoop dogg & lil' kim\":'snoop dogg', \n",
    "'ramsey lewis and earth, wind & fire':'ramsey lewis', 'tragedy, capone, infinite':'capone'}\n",
    "\n",
    "\n",
    "sorted_comma = []\n",
    "main_appears_elsewhere_comma = []\n",
    "wrong_check_comma = []\n",
    "\n",
    "for artist in billboard['artist_clean']:\n",
    "    main_artist = artist.split(',')[0] \n",
    "    if ',' in artist:\n",
    "        \n",
    "        # comma part of name (from wrong_check_comma)\n",
    "        if artist in meaningful_comma:\n",
    "            sorted_comma.append(artist)\n",
    "            \n",
    "        # [0] is a legit solo artist aka comma means feat. (from wrong_check_comma)\n",
    "        elif artist in feat_comma: \n",
    "            sorted_comma.append(main_artist)\n",
    "            \n",
    "        elif artist in list(miscellaneous_comma.keys()):\n",
    "            sorted_comma.append(miscellaneous_comma[artist])\n",
    "        \n",
    "        # if [0] appears in artists then append [0]\n",
    "        # check: [0] might not be a legit solo artist\n",
    "        elif main_artist in billboard.artist_clean.unique(): \n",
    "            sorted_comma.append(main_artist)\n",
    "            main_appears_elsewhere_comma.append(main_artist)\n",
    "        \n",
    "        # append the rest\n",
    "        # check: [0] could be a legit solo artist (when [0] doesnt appear in artists)\n",
    "        else:\n",
    "            sorted_comma.append(artist)\n",
    "            wrong_check_comma.append(artist)\n",
    "            \n",
    "    else:\n",
    "        sorted_comma.append(artist)     "
   ]
  },
  {
   "cell_type": "code",
   "execution_count": 30,
   "metadata": {},
   "outputs": [],
   "source": [
    "billboard.artist_clean = sorted_comma"
   ]
  },
  {
   "cell_type": "markdown",
   "metadata": {},
   "source": [
    "### slash"
   ]
  },
  {
   "cell_type": "code",
   "execution_count": 31,
   "metadata": {},
   "outputs": [],
   "source": [
    "# 'm' was found in main_appears elsewhere which is m/a/r/r/s"
   ]
  },
  {
   "cell_type": "code",
   "execution_count": 32,
   "metadata": {},
   "outputs": [],
   "source": [
    "# if slash is meaningful\n",
    "meaningful_slash = ['ac/dc', 'rufus/chaka khan', 'm/a/r/r/s', 'hughes/thrall']\n",
    "\n",
    "after_slash_real_artist = ['john & yoko/the plastic ono band', 'genius/gza', 'jay-z/linkin park', \n",
    "                              \"michael zager's moon band/peabo bryson\"]\n",
    "\n",
    "actually_featuring = [ 'marvin hamlisch/\"the sting\"',  'the raelets/ray charles orchestra',\n",
    "                      'zayn / taylor swift']\n",
    "\n",
    "sorted_slash = []\n",
    "main_appears_elsewhere_slash = []\n",
    "wrong_check_slash = []\n",
    "\n",
    "for artist in billboard['artist_clean']:\n",
    "    main_artist = artist.split('/')[0] \n",
    "    if '/' in artist:\n",
    "        \n",
    "        if artist in meaningful_slash:\n",
    "            sorted_slash.append(artist)\n",
    "            \n",
    "        elif artist in after_slash_real_artist:\n",
    "            sorted_slash.append(artist.split('/')[1])\n",
    "            \n",
    "        elif artist in actually_featuring:\n",
    "            sorted_slash.append(artist.split('/')[0])\n",
    "        \n",
    "        elif main_artist in billboard.artist_clean.unique():\n",
    "            sorted_slash.append(main_artist)\n",
    "        \n",
    "        else:\n",
    "            sorted_slash.append(artist)\n",
    "            \n",
    "    else:\n",
    "        sorted_slash.append(artist)   "
   ]
  },
  {
   "cell_type": "code",
   "execution_count": 33,
   "metadata": {},
   "outputs": [],
   "source": [
    "billboard.artist_clean = sorted_slash"
   ]
  },
  {
   "cell_type": "markdown",
   "metadata": {},
   "source": [
    "#### for reference: example of checking whether certain artist has genre tag"
   ]
  },
  {
   "cell_type": "code",
   "execution_count": 58,
   "metadata": {},
   "outputs": [
    {
     "name": "stdout",
     "output_type": "stream",
     "text": [
      "['classic rock', 'folk', 'folk rock', 'folk-pop', 'mellow gold', 'permanent wave', 'rock', 'roots rock', 'singer-songwriter', 'soft rock']\n"
     ]
    }
   ],
   "source": [
    "results = sp.search(q='artist:paul simon', type='artist', limit=1)\n",
    "\n",
    "for i, t in enumerate(results['artists']['items']):\n",
    "\n",
    "    print(t['genres'])"
   ]
  },
  {
   "cell_type": "markdown",
   "metadata": {},
   "source": [
    "### &"
   ]
  },
  {
   "cell_type": "code",
   "execution_count": 41,
   "metadata": {},
   "outputs": [],
   "source": [
    "actually_feat = ['chris thompson & night', 'paul humphrey & his cool aid chemists', 'jorgen ingmann & his guitar'\n",
    "'mos def & pharoahe monch', \"al greene & the soul mate's\", 'mantovani & his orch.', 'cliff nobles & co.',\n",
    "'martin solveig & dragonette', 'mc nas-d & dj fred', 'doc box & b. fresh', 'buster poindexter & his banshees of blue',\n",
    "'gesaffelstein & the weeknd', 'adam levine & javier colon', 'the swell season glen hansard & marketa irglova',\n",
    "'ike & tina turner & the ikettes', 'anuel aa & romeo santos', 'a r rahman & the pussycat dolls', \n",
    "'redhead kingpin & the f.b.i.', 'jonell & method man', 'lucas grabeel & ashley tisdale', 'anuel aa & karol g',\n",
    "'edward byrnes & connie stevens', 'dillon francis & dj snake', 'dj sammy & yanou', 'mustard & migos',\n",
    "'doctor dre & ed lover', 'mos def & kweli are black star', \"opetaia foa'i & lin-manuel miranda\"]\n",
    "\n",
    "miscellaneous_ampersand = {'gaylord & holiday':'gaylords', 'sylvia r&b':'sylvia', 'dionne & friends':\n",
    "'dionne warwick', 'dionne':'dionne warwick', 'deliverance/eric weissberg & steve mandell': \n",
    "'deliverance', 'lillywood & robin schulz': 'lilly wood', 'delaney & bonnie & friends/eric clapton'\n",
    ":'delaney & bonnie', 'paul & linda mccartney':'paul mccartney', 'jon & robin and the in crowd': \n",
    "'jon & robin', 'keala settle & the greatest showman ensemble':'the greatest showman ensemble', \n",
    "'delaney & bonnie & friends': 'delaney & bonnie', 'a-trak + milo & otis':'a-trak',\n",
    "                               'sonny & cher': 'cher'}\n",
    "\n",
    "main_appears_elsewhere_wrong = ['Rufus & Carla']\n",
    "\n",
    "sorted_ampersand = []\n",
    "\n",
    "for artist in billboard['artist_clean']:\n",
    "    main_artist = artist.split(' & ')[0] \n",
    "    if ' & ' in artist:\n",
    "        \n",
    "        if artist in list(miscellaneous_ampersand.keys()):\n",
    "            sorted_ampersand.append(miscellaneous_ampersand[artist])\n",
    "        \n",
    "        elif artist in actually_feat:\n",
    "            sorted_ampersand.append(main_artist)\n",
    "            \n",
    "        elif artist in main_appears_elsewhere_wrong:\n",
    "            sorted_ampersand.append(artist)\n",
    "            \n",
    "        elif main_artist in billboard.artist_clean.unique():\n",
    "            sorted_ampersand.append(main_artist)\n",
    "        \n",
    "        else:\n",
    "            sorted_ampersand.append(artist)\n",
    "            \n",
    "    else:\n",
    "        sorted_ampersand.append(artist) "
   ]
  },
  {
   "cell_type": "code",
   "execution_count": 42,
   "metadata": {},
   "outputs": [],
   "source": [
    "billboard.artist_clean = sorted_ampersand"
   ]
  },
  {
   "cell_type": "markdown",
   "metadata": {},
   "source": [
    "### and"
   ]
  },
  {
   "cell_type": "code",
   "execution_count": 44,
   "metadata": {},
   "outputs": [],
   "source": [
    "actually_feat_and = [ 'grand master melle mel and the furious five',  'the used and my chemical romance']\n",
    "\n",
    "sorted_and = []\n",
    "\n",
    "for artist in billboard['artist_clean']:\n",
    "    main_artist = artist.split(' and ')[0] \n",
    "    if ' and ' in artist:\n",
    "            \n",
    "        if artist in actually_feat_and:\n",
    "            sorted_and.append(artist.split(' & ')[0])\n",
    "        \n",
    "        elif main_artist in billboard.artist_clean.unique() and 'love' not in main_artist:\n",
    "            sorted_and.append(main_artist)\n",
    "        \n",
    "        else:\n",
    "            sorted_and.append(artist)\n",
    "            \n",
    "    else:\n",
    "        sorted_and.append(artist) \n",
    "        "
   ]
  },
  {
   "cell_type": "code",
   "execution_count": 45,
   "metadata": {},
   "outputs": [],
   "source": [
    "billboard.artist_clean = sorted_ampersand"
   ]
  },
  {
   "cell_type": "markdown",
   "metadata": {},
   "source": [
    "#### check special characters"
   ]
  },
  {
   "cell_type": "code",
   "execution_count": 380,
   "metadata": {},
   "outputs": [
    {
     "name": "stdout",
     "output_type": "stream",
     "text": [
      "yarbrough & peoples\n",
      "huey \"piano\" smith\n",
      "49-ers\n",
      "bone thugs-n-harmony\n",
      "jay-z\n",
      "ke$ha\n",
      "p!nk\n",
      "eagle-eye cherry\n"
     ]
    }
   ],
   "source": [
    "for x in billboard[billboard.artist_clean.str.contains(pat = '[^\\w\\s.]+', regex = True)].artist_clean.unique()[:8]:  \n",
    "    print(x)"
   ]
  },
  {
   "cell_type": "markdown",
   "metadata": {},
   "source": [
    "#### miscelleanous incorrect entries "
   ]
  },
  {
   "cell_type": "code",
   "execution_count": 51,
   "metadata": {},
   "outputs": [],
   "source": [
    "billboard.artist_clean.replace({'m:g':'m.g', 'stars on 54: ultra nate':'ultra nate',\n",
    "                               'delaney & bonnie & friends/eric clapton':'delaney & bonnie',\n",
    "                                \"fu-schnickens w/ shaquille o'neal\":'fu-schnickens',\n",
    "                                'esther phillips \"little esther\"':'esther phillips',\n",
    "                                'Jackson 5': 'The Jackson 5', 'Beatles': 'The Beatles'\n",
    "                                'wham! u.k.':'wham'},inplace=True)"
   ]
  },
  {
   "cell_type": "markdown",
   "metadata": {},
   "source": [
    "# *"
   ]
  },
  {
   "cell_type": "markdown",
   "metadata": {},
   "source": [
    "### save billboard"
   ]
  },
  {
   "cell_type": "code",
   "execution_count": 180,
   "metadata": {},
   "outputs": [],
   "source": [
    "billboard.to_csv('billboard_final', encoding='utf-8', index=False)"
   ]
  },
  {
   "cell_type": "markdown",
   "metadata": {},
   "source": [
    "### load billboard"
   ]
  },
  {
   "cell_type": "code",
   "execution_count": 181,
   "metadata": {},
   "outputs": [],
   "source": [
    "billboard = pd.read_csv('billboard_final')"
   ]
  },
  {
   "cell_type": "markdown",
   "metadata": {},
   "source": [
    "# part 2"
   ]
  },
  {
   "cell_type": "markdown",
   "metadata": {},
   "source": [
    "# get artist genre/artist popularity spotipi"
   ]
  },
  {
   "cell_type": "markdown",
   "metadata": {},
   "source": [
    "### authenticate"
   ]
  },
  {
   "cell_type": "code",
   "execution_count": 2,
   "metadata": {},
   "outputs": [],
   "source": [
    "import spotipy\n",
    "from spotipy.oauth2 import SpotifyClientCredentials\n",
    "import spotipy.util as util\n",
    "\n",
    "client_id = 'c70a3fc87cf541198f93adf301838ee5'\n",
    "client_secret = '744cfea7c14448ed98d9ac8c80052241'\n",
    "client_credentials_manager = SpotifyClientCredentials(client_id=client_id, client_secret=client_secret)\n",
    "sp = spotipy.Spotify(client_credentials_manager=client_credentials_manager) #spotify object to access API"
   ]
  },
  {
   "cell_type": "markdown",
   "metadata": {},
   "source": [
    "### scrape\n"
   ]
  },
  {
   "cell_type": "code",
   "execution_count": null,
   "metadata": {},
   "outputs": [],
   "source": [
    "artist_name = []\n",
    "genre = []\n",
    "popularity = []\n",
    "followers = []\n",
    "artist_uri = []\n",
    "billboard_artist = []\n",
    "\n",
    "import time\n",
    "start_time = time.time()\n",
    "request_count = 0\n",
    "\n",
    "for artist in billboard.artist_clean.unique():\n",
    "    \n",
    "    billboard_artist.append(artist)\n",
    "    \n",
    "    results = sp.search(q='artist:' + artist, type='artist', limit=1)\n",
    "    \n",
    "    if len(results['artists']['items']):\n",
    "\n",
    "        for i, t in enumerate(results['artists']['items']): \n",
    "\n",
    "            try:\n",
    "                artist_name.append(t['name'])\n",
    "            except:\n",
    "                artist_name.append(np.nan)\n",
    "\n",
    "            try:\n",
    "                genre.append(t['genres'])\n",
    "            except:\n",
    "                genre.append(np.nan)\n",
    "\n",
    "            try:\n",
    "                popularity.append(t['popularity'])\n",
    "            except:\n",
    "                popularity.append(np.nan)\n",
    "\n",
    "            try:\n",
    "                followers.append(t['followers']['total'])\n",
    "            except:\n",
    "                followers.append(np.nan)\n",
    "\n",
    "            try:\n",
    "                artist_uri.append(t['uri'])\n",
    "            except:\n",
    "                artist_uri.append(np.nan)\n",
    "                \n",
    "    else:\n",
    "        artist_name.append(np.nan)\n",
    "        genre.append(np.nan)\n",
    "        popularity.append(np.nan)\n",
    "        followers.append(np.nan)\n",
    "        artist_uri.append(np.nan)\n",
    "\n",
    "        request_count+=1\n",
    "        if request_count % 50 == 0:\n",
    "            print(str(request_count) + \" artists completed\")\n",
    "            print('elapsed: {} seconds'.format(time.time() - start_time))\n"
   ]
  },
  {
   "cell_type": "markdown",
   "metadata": {},
   "source": [
    "### create artist_info dataframe"
   ]
  },
  {
   "cell_type": "code",
   "execution_count": 319,
   "metadata": {},
   "outputs": [],
   "source": [
    "artist_info = pd.DataFrame({'spotify_artist':artist_name, 'billboard_artist':billboard_artist , \n",
    "                            'artist_uri':artist_uri, 'genre' : genre, 'artist_popularity' : popularity, \n",
    "                            'followers' : followers})"
   ]
  },
  {
   "cell_type": "code",
   "execution_count": 166,
   "metadata": {},
   "outputs": [
    {
     "data": {
      "text/html": [
       "<div>\n",
       "<style scoped>\n",
       "    .dataframe tbody tr th:only-of-type {\n",
       "        vertical-align: middle;\n",
       "    }\n",
       "\n",
       "    .dataframe tbody tr th {\n",
       "        vertical-align: top;\n",
       "    }\n",
       "\n",
       "    .dataframe thead th {\n",
       "        text-align: right;\n",
       "    }\n",
       "</style>\n",
       "<table border=\"1\" class=\"dataframe\">\n",
       "  <thead>\n",
       "    <tr style=\"text-align: right;\">\n",
       "      <th></th>\n",
       "      <th>spotify_artist</th>\n",
       "      <th>billboard_artist</th>\n",
       "      <th>artist_uri</th>\n",
       "      <th>genre</th>\n",
       "      <th>artist_popularity</th>\n",
       "      <th>followers</th>\n",
       "    </tr>\n",
       "  </thead>\n",
       "  <tbody>\n",
       "    <tr>\n",
       "      <td>0</td>\n",
       "      <td>Jane Child</td>\n",
       "      <td>jane child</td>\n",
       "      <td>spotify:artist:5JBif5ahOKFFVuEpHhrp8Y</td>\n",
       "      <td>['new wave pop']</td>\n",
       "      <td>36.0</td>\n",
       "      <td>4884.0</td>\n",
       "    </tr>\n",
       "    <tr>\n",
       "      <td>1</td>\n",
       "      <td>Jason Derulo</td>\n",
       "      <td>jason derulo</td>\n",
       "      <td>spotify:artist:07YZf4WDAMNwqr4jfgOZ8y</td>\n",
       "      <td>['dance pop', 'pop', 'pop rap', 'post-teen pop...</td>\n",
       "      <td>83.0</td>\n",
       "      <td>7195281.0</td>\n",
       "    </tr>\n",
       "    <tr>\n",
       "      <td>2</td>\n",
       "      <td>Maroon 5</td>\n",
       "      <td>maroon 5</td>\n",
       "      <td>spotify:artist:04gDigrS5kc9YWfZHwBETP</td>\n",
       "      <td>['pop', 'pop rock']</td>\n",
       "      <td>93.0</td>\n",
       "      <td>20940000.0</td>\n",
       "    </tr>\n",
       "    <tr>\n",
       "      <td>3</td>\n",
       "      <td>Bee Gees</td>\n",
       "      <td>bee gees</td>\n",
       "      <td>spotify:artist:1LZEQNv7sE11VDY3SdxQeN</td>\n",
       "      <td>['adult standards', 'disco', 'mellow gold', 's...</td>\n",
       "      <td>78.0</td>\n",
       "      <td>2636380.0</td>\n",
       "    </tr>\n",
       "    <tr>\n",
       "      <td>4</td>\n",
       "      <td>Gloria Estefan</td>\n",
       "      <td>gloria estefan</td>\n",
       "      <td>spotify:artist:5IFCkqu9J6xdWeYMk5I889</td>\n",
       "      <td>['dance pop', 'latin pop', 'new wave pop', 'so...</td>\n",
       "      <td>68.0</td>\n",
       "      <td>347934.0</td>\n",
       "    </tr>\n",
       "  </tbody>\n",
       "</table>\n",
       "</div>"
      ],
      "text/plain": [
       "   spotify_artist billboard_artist                             artist_uri  \\\n",
       "0      Jane Child       jane child  spotify:artist:5JBif5ahOKFFVuEpHhrp8Y   \n",
       "1    Jason Derulo     jason derulo  spotify:artist:07YZf4WDAMNwqr4jfgOZ8y   \n",
       "2        Maroon 5         maroon 5  spotify:artist:04gDigrS5kc9YWfZHwBETP   \n",
       "3        Bee Gees         bee gees  spotify:artist:1LZEQNv7sE11VDY3SdxQeN   \n",
       "4  Gloria Estefan   gloria estefan  spotify:artist:5IFCkqu9J6xdWeYMk5I889   \n",
       "\n",
       "                                               genre  artist_popularity  \\\n",
       "0                                   ['new wave pop']               36.0   \n",
       "1  ['dance pop', 'pop', 'pop rap', 'post-teen pop...               83.0   \n",
       "2                                ['pop', 'pop rock']               93.0   \n",
       "3  ['adult standards', 'disco', 'mellow gold', 's...               78.0   \n",
       "4  ['dance pop', 'latin pop', 'new wave pop', 'so...               68.0   \n",
       "\n",
       "    followers  \n",
       "0      4884.0  \n",
       "1   7195281.0  \n",
       "2  20940000.0  \n",
       "3   2636380.0  \n",
       "4    347934.0  "
      ]
     },
     "execution_count": 166,
     "metadata": {},
     "output_type": "execute_result"
    }
   ],
   "source": [
    "artist_info.head()"
   ]
  },
  {
   "cell_type": "markdown",
   "metadata": {},
   "source": [
    "### save "
   ]
  },
  {
   "cell_type": "code",
   "execution_count": 321,
   "metadata": {},
   "outputs": [],
   "source": [
    "artist_info.to_csv('artist_info_final', encoding='utf-8', index=False)"
   ]
  },
  {
   "cell_type": "markdown",
   "metadata": {},
   "source": [
    "### load artist_info"
   ]
  },
  {
   "cell_type": "code",
   "execution_count": 158,
   "metadata": {},
   "outputs": [],
   "source": [
    "artist_info = pd.read_csv('artist_info_final')"
   ]
  },
  {
   "cell_type": "markdown",
   "metadata": {},
   "source": [
    "# ------------------------------------------------------------------------------------------------------------"
   ]
  },
  {
   "cell_type": "markdown",
   "metadata": {},
   "source": [
    "# part 3"
   ]
  },
  {
   "cell_type": "markdown",
   "metadata": {},
   "source": [
    "# merge to get billboard + artist_info"
   ]
  },
  {
   "cell_type": "code",
   "execution_count": 682,
   "metadata": {},
   "outputs": [
    {
     "data": {
      "text/html": [
       "<div>\n",
       "<style scoped>\n",
       "    .dataframe tbody tr th:only-of-type {\n",
       "        vertical-align: middle;\n",
       "    }\n",
       "\n",
       "    .dataframe tbody tr th {\n",
       "        vertical-align: top;\n",
       "    }\n",
       "\n",
       "    .dataframe thead th {\n",
       "        text-align: right;\n",
       "    }\n",
       "</style>\n",
       "<table border=\"1\" class=\"dataframe\">\n",
       "  <thead>\n",
       "    <tr style=\"text-align: right;\">\n",
       "      <th></th>\n",
       "      <th>track_name</th>\n",
       "      <th>WeekID</th>\n",
       "      <th>Week Position</th>\n",
       "      <th>Instance</th>\n",
       "      <th>Weeks on Chart</th>\n",
       "      <th>Peak Position</th>\n",
       "      <th>artist_clean</th>\n",
       "      <th>spotify_artist</th>\n",
       "      <th>billboard_artist</th>\n",
       "      <th>artist_uri</th>\n",
       "      <th>genre</th>\n",
       "      <th>artist_popularity</th>\n",
       "      <th>followers</th>\n",
       "    </tr>\n",
       "  </thead>\n",
       "  <tbody>\n",
       "    <tr>\n",
       "      <td>0</td>\n",
       "      <td>don't wanna fall in love</td>\n",
       "      <td>2/10/1990</td>\n",
       "      <td>75</td>\n",
       "      <td>1</td>\n",
       "      <td>1</td>\n",
       "      <td>75</td>\n",
       "      <td>jane child</td>\n",
       "      <td>Jane Child</td>\n",
       "      <td>jane child</td>\n",
       "      <td>spotify:artist:5JBif5ahOKFFVuEpHhrp8Y</td>\n",
       "      <td>['new wave pop']</td>\n",
       "      <td>36.0</td>\n",
       "      <td>4884.0</td>\n",
       "    </tr>\n",
       "    <tr>\n",
       "      <td>1</td>\n",
       "      <td>don't wanna fall in love</td>\n",
       "      <td>2/17/1990</td>\n",
       "      <td>53</td>\n",
       "      <td>1</td>\n",
       "      <td>2</td>\n",
       "      <td>53</td>\n",
       "      <td>jane child</td>\n",
       "      <td>Jane Child</td>\n",
       "      <td>jane child</td>\n",
       "      <td>spotify:artist:5JBif5ahOKFFVuEpHhrp8Y</td>\n",
       "      <td>['new wave pop']</td>\n",
       "      <td>36.0</td>\n",
       "      <td>4884.0</td>\n",
       "    </tr>\n",
       "  </tbody>\n",
       "</table>\n",
       "</div>"
      ],
      "text/plain": [
       "                 track_name     WeekID  Week Position  Instance  \\\n",
       "0  don't wanna fall in love  2/10/1990             75         1   \n",
       "1  don't wanna fall in love  2/17/1990             53         1   \n",
       "\n",
       "   Weeks on Chart  Peak Position artist_clean spotify_artist billboard_artist  \\\n",
       "0               1             75   jane child     Jane Child       jane child   \n",
       "1               2             53   jane child     Jane Child       jane child   \n",
       "\n",
       "                              artist_uri             genre  artist_popularity  \\\n",
       "0  spotify:artist:5JBif5ahOKFFVuEpHhrp8Y  ['new wave pop']               36.0   \n",
       "1  spotify:artist:5JBif5ahOKFFVuEpHhrp8Y  ['new wave pop']               36.0   \n",
       "\n",
       "   followers  \n",
       "0     4884.0  \n",
       "1     4884.0  "
      ]
     },
     "execution_count": 682,
     "metadata": {},
     "output_type": "execute_result"
    }
   ],
   "source": [
    "billboard_merged = pd.merge(billboard.drop('artist', axis=1) , artist_info , \n",
    "                                   how='inner', left_on='artist_clean', right_on='billboard_artist')\n",
    "billboard_merged.head(2)"
   ]
  },
  {
   "cell_type": "markdown",
   "metadata": {},
   "source": [
    "### check that the merged columns are the same"
   ]
  },
  {
   "cell_type": "code",
   "execution_count": 511,
   "metadata": {},
   "outputs": [
    {
     "name": "stdout",
     "output_type": "stream",
     "text": [
      "                        artist_clean                   spotify_artist\n",
      "2996                     john mayall  John Mayall & The Bluesbreakers\n",
      "3111                 vincent edwards               J. Vincent Edwards\n",
      "4833                          linear                      Linear Labs\n",
      "5198                           touch                 A Touch Of Class\n",
      "11221  perez prado and his orchestra      Perez Prado & his Orchestra\n",
      "17590                          jay-z                            JAY Z\n",
      "20906                    celine dion                      Céline Dion\n",
      "21514                          ke$ha                      Ha Ke Kgomo\n",
      "25208                     puff daddy                Mase & Puff Daddy\n",
      "26577                        beyonce                          Beyoncé\n"
     ]
    }
   ],
   "source": [
    "incorrect = billboard_merged.loc[(billboard_merged['artist_clean'] != [x.lower() for x in \n",
    "billboard_merged['spotify_artist']])].drop_duplicates(subset='artist_clean', \n",
    "keep='first')[['artist_clean', 'spotify_artist']].head(10)\n",
    "print(incorrect.to_string())"
   ]
  },
  {
   "cell_type": "markdown",
   "metadata": {},
   "source": [
    "#### create a dictionary of entries where billboard doesnt match up with spotify results"
   ]
  },
  {
   "cell_type": "code",
   "execution_count": 436,
   "metadata": {},
   "outputs": [],
   "source": [
    "incorrect_dict = {}\n",
    "for artist_name in incorrect.artist_clean:\n",
    "    incorrect_dict[artist_name]=  list(incorrect.groupby('artist_clean')['track_name'].get_group(artist_name).values)"
   ]
  },
  {
   "cell_type": "markdown",
   "metadata": {},
   "source": [
    "#### scrape again including track name to try get more accurate scrape"
   ]
  },
  {
   "cell_type": "code",
   "execution_count": 479,
   "metadata": {},
   "outputs": [
    {
     "name": "stdout",
     "output_type": "stream",
     "text": [
      "retrying ...1secs\n",
      "retrying ...1secs\n"
     ]
    }
   ],
   "source": [
    "billboard_artist = []\n",
    "improved_artist = []\n",
    "\n",
    "for artist_name in incorrect_dict:\n",
    "    for track in set(incorrect_dict[artist_name]):\n",
    "        \n",
    "        billboard_artist.append(artist_name)\n",
    "        \n",
    "        results = sp.search(q='artist:' + artist_name + ' track:' + track, type='track', limit=1)\n",
    "\n",
    "        if len(results['tracks']['items']):\n",
    "\n",
    "            for i, t in enumerate(results['tracks']['items']):\n",
    "\n",
    "                improved_artist.append(t['album']['artists'][0]['name'])\n",
    "                \n",
    "        else:\n",
    "            improved_artist.append(np.nan)           "
   ]
  },
  {
   "cell_type": "markdown",
   "metadata": {},
   "source": [
    "#### put into dataframe"
   ]
  },
  {
   "cell_type": "code",
   "execution_count": 536,
   "metadata": {},
   "outputs": [
    {
     "data": {
      "text/html": [
       "<div>\n",
       "<style scoped>\n",
       "    .dataframe tbody tr th:only-of-type {\n",
       "        vertical-align: middle;\n",
       "    }\n",
       "\n",
       "    .dataframe tbody tr th {\n",
       "        vertical-align: top;\n",
       "    }\n",
       "\n",
       "    .dataframe thead th {\n",
       "        text-align: right;\n",
       "    }\n",
       "</style>\n",
       "<table border=\"1\" class=\"dataframe\">\n",
       "  <thead>\n",
       "    <tr style=\"text-align: right;\">\n",
       "      <th></th>\n",
       "      <th>improved_artist</th>\n",
       "      <th>billboard_artist</th>\n",
       "    </tr>\n",
       "  </thead>\n",
       "  <tbody>\n",
       "    <tr>\n",
       "      <td>24</td>\n",
       "      <td>Blaque</td>\n",
       "      <td>blaque</td>\n",
       "    </tr>\n",
       "    <tr>\n",
       "      <td>27</td>\n",
       "      <td>Prince</td>\n",
       "      <td>prince</td>\n",
       "    </tr>\n",
       "    <tr>\n",
       "      <td>29</td>\n",
       "      <td>Free</td>\n",
       "      <td>free</td>\n",
       "    </tr>\n",
       "    <tr>\n",
       "      <td>30</td>\n",
       "      <td>Holly Knight</td>\n",
       "      <td>holly knight</td>\n",
       "    </tr>\n",
       "    <tr>\n",
       "      <td>32</td>\n",
       "      <td>The Originals</td>\n",
       "      <td>the originals</td>\n",
       "    </tr>\n",
       "    <tr>\n",
       "      <td>...</td>\n",
       "      <td>...</td>\n",
       "      <td>...</td>\n",
       "    </tr>\n",
       "    <tr>\n",
       "      <td>1135</td>\n",
       "      <td>Notorious</td>\n",
       "      <td>notorious</td>\n",
       "    </tr>\n",
       "    <tr>\n",
       "      <td>1137</td>\n",
       "      <td>Tag</td>\n",
       "      <td>tag</td>\n",
       "    </tr>\n",
       "    <tr>\n",
       "      <td>1149</td>\n",
       "      <td>Lake</td>\n",
       "      <td>lake</td>\n",
       "    </tr>\n",
       "    <tr>\n",
       "      <td>1156</td>\n",
       "      <td>the Triplets</td>\n",
       "      <td>the triplets</td>\n",
       "    </tr>\n",
       "    <tr>\n",
       "      <td>1169</td>\n",
       "      <td>Toronto</td>\n",
       "      <td>toronto</td>\n",
       "    </tr>\n",
       "  </tbody>\n",
       "</table>\n",
       "<p>246 rows × 2 columns</p>\n",
       "</div>"
      ],
      "text/plain": [
       "     improved_artist billboard_artist\n",
       "24            Blaque           blaque\n",
       "27            Prince           prince\n",
       "29              Free             free\n",
       "30      Holly Knight     holly knight\n",
       "32     The Originals    the originals\n",
       "...              ...              ...\n",
       "1135       Notorious        notorious\n",
       "1137             Tag              tag\n",
       "1149            Lake             lake\n",
       "1156    the Triplets     the triplets\n",
       "1169         Toronto          toronto\n",
       "\n",
       "[246 rows x 2 columns]"
      ]
     },
     "execution_count": 536,
     "metadata": {},
     "output_type": "execute_result"
    }
   ],
   "source": [
    "improved = pd.DataFrame({'improved_artist':improved_artist, 'billboard_artist':billboard_artist })\n",
    "improved = improved[pd.notnull(improved.improved_artist)]\n",
    "add_to_original = improved.loc[(improved.billboard_artist == [x.lower() for x in improved.improved_artist])]\n",
    "add_to_original "
   ]
  },
  {
   "cell_type": "code",
   "execution_count": 564,
   "metadata": {},
   "outputs": [
    {
     "data": {
      "text/html": [
       "<div>\n",
       "<style scoped>\n",
       "    .dataframe tbody tr th:only-of-type {\n",
       "        vertical-align: middle;\n",
       "    }\n",
       "\n",
       "    .dataframe tbody tr th {\n",
       "        vertical-align: top;\n",
       "    }\n",
       "\n",
       "    .dataframe thead th {\n",
       "        text-align: right;\n",
       "    }\n",
       "</style>\n",
       "<table border=\"1\" class=\"dataframe\">\n",
       "  <thead>\n",
       "    <tr style=\"text-align: right;\">\n",
       "      <th></th>\n",
       "      <th>improved_artist</th>\n",
       "      <th>billboard_artist</th>\n",
       "    </tr>\n",
       "  </thead>\n",
       "  <tbody>\n",
       "    <tr>\n",
       "      <td>6</td>\n",
       "      <td>Céline Dion</td>\n",
       "      <td>celine dion</td>\n",
       "    </tr>\n",
       "    <tr>\n",
       "      <td>9</td>\n",
       "      <td>Beyoncé</td>\n",
       "      <td>beyonce</td>\n",
       "    </tr>\n",
       "    <tr>\n",
       "      <td>10</td>\n",
       "      <td>Janet Jackson</td>\n",
       "      <td>janet</td>\n",
       "    </tr>\n",
       "    <tr>\n",
       "      <td>13</td>\n",
       "      <td>John Mellencamp</td>\n",
       "      <td>john cougar mellencamp</td>\n",
       "    </tr>\n",
       "    <tr>\n",
       "      <td>15</td>\n",
       "      <td>Herb Alpert &amp; The Tijuana Brass</td>\n",
       "      <td>herb alpert</td>\n",
       "    </tr>\n",
       "  </tbody>\n",
       "</table>\n",
       "</div>"
      ],
      "text/plain": [
       "                    improved_artist        billboard_artist\n",
       "6                       Céline Dion             celine dion\n",
       "9                           Beyoncé                 beyonce\n",
       "10                    Janet Jackson                   janet\n",
       "13                  John Mellencamp  john cougar mellencamp\n",
       "15  Herb Alpert & The Tijuana Brass             herb alpert"
      ]
     },
     "execution_count": 564,
     "metadata": {},
     "output_type": "execute_result"
    }
   ],
   "source": [
    "check_these = improved.loc[(improved.billboard_artist != [x.lower() \n",
    "                            for x in improved.improved_artist])][check_these.improved_artist != 'Various Artists' ]\n",
    "check_these.head()"
   ]
  },
  {
   "cell_type": "code",
   "execution_count": null,
   "metadata": {},
   "outputs": [],
   "source": [
    "check_these['ratio'] = check_these.apply(lambda x: fuzz.ratio(x['improved_artist'], x['billboard_artist']), axis=1)\n",
    "check_these = check_these[check_these.ratio > 85].drop('ratio', axis=1)\n",
    "add_to_original.append(check_these)"
   ]
  },
  {
   "cell_type": "code",
   "execution_count": 683,
   "metadata": {},
   "outputs": [],
   "source": [
    "billboard_merged = billboard_merged[~billboard_merged.billboard_artist.isin(list(add_to_original.billboard_artist))]"
   ]
  },
  {
   "cell_type": "markdown",
   "metadata": {},
   "source": [
    "## null values "
   ]
  },
  {
   "cell_type": "code",
   "execution_count": 354,
   "metadata": {},
   "outputs": [],
   "source": [
    "billboard_merged.to_csv('billboard_artist_merge_including_nans', encoding='utf-8', index=False)"
   ]
  },
  {
   "cell_type": "code",
   "execution_count": 684,
   "metadata": {},
   "outputs": [
    {
     "name": "stdout",
     "output_type": "stream",
     "text": [
      "(311213, 13)\n",
      "(301721, 13)\n"
     ]
    }
   ],
   "source": [
    "print(billboard_merged.shape)\n",
    "billboard_merged.dropna(inplace=True)\n",
    "print(billboard_merged.shape)"
   ]
  },
  {
   "cell_type": "markdown",
   "metadata": {},
   "source": [
    "#### duplicates check"
   ]
  },
  {
   "cell_type": "code",
   "execution_count": 678,
   "metadata": {},
   "outputs": [
    {
     "name": "stdout",
     "output_type": "stream",
     "text": [
      "0\n"
     ]
    }
   ],
   "source": [
    "print(len(artist_info[artist_info.duplicated(keep='first')]))"
   ]
  },
  {
   "cell_type": "markdown",
   "metadata": {},
   "source": [
    "#### nice presentation"
   ]
  },
  {
   "cell_type": "code",
   "execution_count": 688,
   "metadata": {},
   "outputs": [],
   "source": [
    "billboard_merged.columns = [c.lower().replace(' ', '_') for c in billboard_merged.columns]"
   ]
  },
  {
   "cell_type": "code",
   "execution_count": 690,
   "metadata": {},
   "outputs": [],
   "source": [
    "billboard_merged = billboard_merged [['spotify_artist', 'track_name', 'billboard_artist', 'artist_uri', 'genre', 'artist_popularity',\n",
    "                    'followers', 'weekid', 'week_position', 'instance', 'weeks_on_chart', 'peak_position']]"
   ]
  },
  {
   "cell_type": "code",
   "execution_count": 681,
   "metadata": {},
   "outputs": [
    {
     "data": {
      "text/html": [
       "<div>\n",
       "<style scoped>\n",
       "    .dataframe tbody tr th:only-of-type {\n",
       "        vertical-align: middle;\n",
       "    }\n",
       "\n",
       "    .dataframe tbody tr th {\n",
       "        vertical-align: top;\n",
       "    }\n",
       "\n",
       "    .dataframe thead th {\n",
       "        text-align: right;\n",
       "    }\n",
       "</style>\n",
       "<table border=\"1\" class=\"dataframe\">\n",
       "  <thead>\n",
       "    <tr style=\"text-align: right;\">\n",
       "      <th></th>\n",
       "      <th>spotify_artist</th>\n",
       "      <th>track_name</th>\n",
       "      <th>artist_uri</th>\n",
       "      <th>genre</th>\n",
       "      <th>artist_popularity</th>\n",
       "      <th>followers</th>\n",
       "      <th>weekid</th>\n",
       "      <th>week_position</th>\n",
       "      <th>instance</th>\n",
       "      <th>weeks_on_chart</th>\n",
       "      <th>peak_position</th>\n",
       "    </tr>\n",
       "  </thead>\n",
       "  <tbody>\n",
       "    <tr>\n",
       "      <td>0</td>\n",
       "      <td>Jane Child</td>\n",
       "      <td>don't wanna fall in love</td>\n",
       "      <td>spotify:artist:5JBif5ahOKFFVuEpHhrp8Y</td>\n",
       "      <td>['new wave pop']</td>\n",
       "      <td>36.0</td>\n",
       "      <td>4884.0</td>\n",
       "      <td>2/10/1990</td>\n",
       "      <td>75</td>\n",
       "      <td>1</td>\n",
       "      <td>1</td>\n",
       "      <td>75</td>\n",
       "    </tr>\n",
       "    <tr>\n",
       "      <td>1</td>\n",
       "      <td>Jane Child</td>\n",
       "      <td>don't wanna fall in love</td>\n",
       "      <td>spotify:artist:5JBif5ahOKFFVuEpHhrp8Y</td>\n",
       "      <td>['new wave pop']</td>\n",
       "      <td>36.0</td>\n",
       "      <td>4884.0</td>\n",
       "      <td>2/17/1990</td>\n",
       "      <td>53</td>\n",
       "      <td>1</td>\n",
       "      <td>2</td>\n",
       "      <td>53</td>\n",
       "    </tr>\n",
       "  </tbody>\n",
       "</table>\n",
       "</div>"
      ],
      "text/plain": [
       "  spotify_artist                track_name  \\\n",
       "0     Jane Child  don't wanna fall in love   \n",
       "1     Jane Child  don't wanna fall in love   \n",
       "\n",
       "                              artist_uri             genre  artist_popularity  \\\n",
       "0  spotify:artist:5JBif5ahOKFFVuEpHhrp8Y  ['new wave pop']               36.0   \n",
       "1  spotify:artist:5JBif5ahOKFFVuEpHhrp8Y  ['new wave pop']               36.0   \n",
       "\n",
       "   followers     weekid  week_position  instance  weeks_on_chart  \\\n",
       "0     4884.0  2/10/1990             75         1               1   \n",
       "1     4884.0  2/17/1990             53         1               2   \n",
       "\n",
       "   peak_position  \n",
       "0             75  \n",
       "1             53  "
      ]
     },
     "execution_count": 681,
     "metadata": {},
     "output_type": "execute_result"
    }
   ],
   "source": [
    "billboard_merged.head(2)"
   ]
  },
  {
   "cell_type": "markdown",
   "metadata": {},
   "source": [
    "### save "
   ]
  },
  {
   "cell_type": "code",
   "execution_count": 691,
   "metadata": {},
   "outputs": [],
   "source": [
    "billboard_merged.to_csv('billboard_merged_final', encoding='utf-8', index=False)"
   ]
  },
  {
   "cell_type": "markdown",
   "metadata": {},
   "source": [
    "### load"
   ]
  },
  {
   "cell_type": "code",
   "execution_count": 204,
   "metadata": {},
   "outputs": [],
   "source": [
    "billboard_merged = pd.read_csv('billboard_merged_final')"
   ]
  },
  {
   "cell_type": "markdown",
   "metadata": {},
   "source": [
    "# ------------------------------------------------------------------------------------------------------------"
   ]
  },
  {
   "cell_type": "markdown",
   "metadata": {},
   "source": [
    "# part 4 - individual track info"
   ]
  },
  {
   "cell_type": "markdown",
   "metadata": {},
   "source": [
    "## clean track name"
   ]
  },
  {
   "cell_type": "code",
   "execution_count": 598,
   "metadata": {},
   "outputs": [
    {
     "name": "stdout",
     "output_type": "stream",
     "text": [
      "don't wanna fall in love\n",
      "don't wanna go home\n",
      "ridin' solo\n",
      "if it ain't love\n",
      "don't wanna know\n",
      "won't go home without you\n",
      "this summer's gonna hurt...\n",
      "don't wanna live inside myself\n",
      "stayin' alive\n",
      "new york mining disaster 1941 (have you seen my wife, mr. jones)\n"
     ]
    }
   ],
   "source": [
    "for x in billboard_merged[billboard_merged.track_name.str.contains(pat = '[^\\w\\s.]+', regex = True)].track_name.unique()[:10]:  \n",
    "    print(x)"
   ]
  },
  {
   "cell_type": "code",
   "execution_count": 599,
   "metadata": {},
   "outputs": [],
   "source": [
    "billboard_merged.track_name.replace({'new york mining disaster 1941 (have you seen my wife, mr. jones)':'new york mining disaster 1941', \n",
    "    \"ev'rybody's twistin'\": \"everybody's twistin'\"},inplace=True)"
   ]
  },
  {
   "cell_type": "markdown",
   "metadata": {},
   "source": [
    "## track id (to get musical components)/ track popularity"
   ]
  },
  {
   "cell_type": "code",
   "execution_count": 600,
   "metadata": {},
   "outputs": [],
   "source": [
    "artist_dict={}\n",
    "for artist_name in billboard_merged.spotify_artist.unique():\n",
    "    artist_dict[artist_name]=list(billboard_merged.groupby('spotify_artist')['track_name'\n",
    "                                                                            ].get_group(artist_name).values)"
   ]
  },
  {
   "cell_type": "code",
   "execution_count": null,
   "metadata": {},
   "outputs": [],
   "source": [
    "for artist_name in artist_dict:\n",
    "    for track_name in set(artist_dict[artist_name]):\n",
    "            print(artist_name, track_name )"
   ]
  },
  {
   "cell_type": "code",
   "execution_count": null,
   "metadata": {},
   "outputs": [],
   "source": [
    "original_track = []\n",
    "original_artist = []\n",
    "\n",
    "track_name = []\n",
    "artist_name = []\n",
    "track_popularity = []\n",
    "track_uri = []\n",
    "\n",
    "import time\n",
    "start_time = time.time()\n",
    "request_count = 0\n",
    "    \n",
    "for artist in artist_dict:\n",
    "    for track in set(artist_dict[artist]):\n",
    "        \n",
    "        original_track.append(track)\n",
    "        original_artist.append(artist)\n",
    "        \n",
    "        track_results = sp.search(q='artist:' + artist + ' track:' + track, type='track', limit=1)\n",
    "        \n",
    "        if len(track_results['tracks']['items']):\n",
    "\n",
    "            for i, t in enumerate(track_results['tracks']['items']):\n",
    "\n",
    "                try:\n",
    "                    track_name.append(t['name'])\n",
    "                except:\n",
    "                    track_name.append(np.nan)\n",
    "\n",
    "                try:\n",
    "                    artist_name.append(t['album']['artists'][0]['name'])\n",
    "                except:\n",
    "                    artist_name.append(np.nan)\n",
    "\n",
    "                try:\n",
    "                    track_popularity.append(t['popularity'])\n",
    "                except:\n",
    "                    track_popularity.append(np.nan)\n",
    "\n",
    "                try:\n",
    "                    track_uri.append(t['uri'])\n",
    "                except:\n",
    "                    track_uri.append(np.nan)\n",
    "                    \n",
    "        else:\n",
    "            track_name.append(np.nan)\n",
    "            artist_name.append(np.nan)\n",
    "            track_popularity.append(np.nan)\n",
    "            track_uri.append(np.nan)\n",
    "                    \n",
    "        request_count+=1\n",
    "        if request_count % 50 == 0:\n",
    "            print(str(request_count) + \" track completed\")\n",
    "            print('elapsed: {} seconds'.format(time.time() - start_time))\n"
   ]
  },
  {
   "cell_type": "markdown",
   "metadata": {},
   "source": [
    "#### track name / track popularity / track ID dataframe"
   ]
  },
  {
   "cell_type": "code",
   "execution_count": 608,
   "metadata": {},
   "outputs": [],
   "source": [
    "track_info = pd.DataFrame({'original_track':original_track, 'original_artist':original_artist, 'artistor':artist_name, \n",
    "                           'track_name':track_name, 'track_popularity':track_popularity, 'track_uri': track_uri })"
   ]
  },
  {
   "cell_type": "code",
   "execution_count": 609,
   "metadata": {},
   "outputs": [
    {
     "data": {
      "text/html": [
       "<div>\n",
       "<style scoped>\n",
       "    .dataframe tbody tr th:only-of-type {\n",
       "        vertical-align: middle;\n",
       "    }\n",
       "\n",
       "    .dataframe tbody tr th {\n",
       "        vertical-align: top;\n",
       "    }\n",
       "\n",
       "    .dataframe thead th {\n",
       "        text-align: right;\n",
       "    }\n",
       "</style>\n",
       "<table border=\"1\" class=\"dataframe\">\n",
       "  <thead>\n",
       "    <tr style=\"text-align: right;\">\n",
       "      <th></th>\n",
       "      <th>original_track</th>\n",
       "      <th>original_artist</th>\n",
       "      <th>artist</th>\n",
       "      <th>track_name</th>\n",
       "      <th>track_popularity</th>\n",
       "      <th>track_uri</th>\n",
       "    </tr>\n",
       "  </thead>\n",
       "  <tbody>\n",
       "    <tr>\n",
       "      <td>0</td>\n",
       "      <td>don't wanna fall in love</td>\n",
       "      <td>Jane Child</td>\n",
       "      <td>NaN</td>\n",
       "      <td>NaN</td>\n",
       "      <td>NaN</td>\n",
       "      <td>NaN</td>\n",
       "    </tr>\n",
       "    <tr>\n",
       "      <td>1</td>\n",
       "      <td>welcome to the real world</td>\n",
       "      <td>Jane Child</td>\n",
       "      <td>Jane Child</td>\n",
       "      <td>Welcome to the Real World</td>\n",
       "      <td>19.0</td>\n",
       "      <td>spotify:track:37o0UBywazf2Xcy3297Que</td>\n",
       "    </tr>\n",
       "    <tr>\n",
       "      <td>2</td>\n",
       "      <td>it girl</td>\n",
       "      <td>Jason Derulo</td>\n",
       "      <td>Jason Derulo</td>\n",
       "      <td>It Girl</td>\n",
       "      <td>72.0</td>\n",
       "      <td>spotify:track:4fINc8dnfcz7AdhFYVA4i7</td>\n",
       "    </tr>\n",
       "    <tr>\n",
       "      <td>3</td>\n",
       "      <td>if it ain't love</td>\n",
       "      <td>Jason Derulo</td>\n",
       "      <td>Jason Derulo</td>\n",
       "      <td>If It Ain't Love</td>\n",
       "      <td>62.0</td>\n",
       "      <td>spotify:track:5YHR8wBR5jXfGtP766NiAT</td>\n",
       "    </tr>\n",
       "    <tr>\n",
       "      <td>4</td>\n",
       "      <td>in my head</td>\n",
       "      <td>Jason Derulo</td>\n",
       "      <td>Jason Derulo</td>\n",
       "      <td>In My Head</td>\n",
       "      <td>65.0</td>\n",
       "      <td>spotify:track:5BoIP8Eha5hwmRVURkC2Us</td>\n",
       "    </tr>\n",
       "  </tbody>\n",
       "</table>\n",
       "</div>"
      ],
      "text/plain": [
       "              original_track original_artist        artist  \\\n",
       "0   don't wanna fall in love      Jane Child           NaN   \n",
       "1  welcome to the real world      Jane Child    Jane Child   \n",
       "2                    it girl    Jason Derulo  Jason Derulo   \n",
       "3           if it ain't love    Jason Derulo  Jason Derulo   \n",
       "4                 in my head    Jason Derulo  Jason Derulo   \n",
       "\n",
       "                  track_name  track_popularity  \\\n",
       "0                        NaN               NaN   \n",
       "1  Welcome to the Real World              19.0   \n",
       "2                    It Girl              72.0   \n",
       "3           If It Ain't Love              62.0   \n",
       "4                 In My Head              65.0   \n",
       "\n",
       "                              track_uri  \n",
       "0                                   NaN  \n",
       "1  spotify:track:37o0UBywazf2Xcy3297Que  \n",
       "2  spotify:track:4fINc8dnfcz7AdhFYVA4i7  \n",
       "3  spotify:track:5YHR8wBR5jXfGtP766NiAT  \n",
       "4  spotify:track:5BoIP8Eha5hwmRVURkC2Us  "
      ]
     },
     "execution_count": 609,
     "metadata": {},
     "output_type": "execute_result"
    }
   ],
   "source": [
    "track_info.head()"
   ]
  },
  {
   "cell_type": "code",
   "execution_count": 610,
   "metadata": {},
   "outputs": [
    {
     "data": {
      "text/plain": [
       "4511"
      ]
     },
     "execution_count": 610,
     "metadata": {},
     "output_type": "execute_result"
    }
   ],
   "source": [
    "len(track_info.artist.unique())"
   ]
  },
  {
   "cell_type": "code",
   "execution_count": 611,
   "metadata": {},
   "outputs": [
    {
     "data": {
      "text/plain": [
       "18937"
      ]
     },
     "execution_count": 611,
     "metadata": {},
     "output_type": "execute_result"
    }
   ],
   "source": [
    "len(track_info.track_name.unique())"
   ]
  },
  {
   "cell_type": "code",
   "execution_count": 612,
   "metadata": {},
   "outputs": [
    {
     "data": {
      "text/plain": [
       "original_track         0\n",
       "original_artist        0\n",
       "artist              5419\n",
       "track_name          5419\n",
       "track_popularity    5419\n",
       "track_uri           5419\n",
       "dtype: int64"
      ]
     },
     "execution_count": 612,
     "metadata": {},
     "output_type": "execute_result"
    }
   ],
   "source": [
    "track_info.isnull().sum()"
   ]
  },
  {
   "cell_type": "code",
   "execution_count": 613,
   "metadata": {},
   "outputs": [
    {
     "name": "stdout",
     "output_type": "stream",
     "text": [
      "(26517, 6)\n",
      "(21098, 6)\n"
     ]
    }
   ],
   "source": [
    "print(track_info.shape)\n",
    "track_info.dropna(inplace=True)\n",
    "print(track_info.shape)"
   ]
  },
  {
   "cell_type": "code",
   "execution_count": 615,
   "metadata": {},
   "outputs": [
    {
     "name": "stdout",
     "output_type": "stream",
     "text": [
      "0\n"
     ]
    }
   ],
   "source": [
    "print(len(track_info[track_info.duplicated(keep='first')]))"
   ]
  },
  {
   "cell_type": "markdown",
   "metadata": {},
   "source": [
    "# *"
   ]
  },
  {
   "cell_type": "markdown",
   "metadata": {},
   "source": [
    "## musical components"
   ]
  },
  {
   "cell_type": "code",
   "execution_count": null,
   "metadata": {},
   "outputs": [],
   "source": [
    "acousticness = []\n",
    "danceability = []\n",
    "energy = []\n",
    "instrumentalness = []\n",
    "liveness = []\n",
    "loudness = []\n",
    "speechiness = []\n",
    "tempo = []\n",
    "valence = []\n",
    "track_uri = []\n",
    "\n",
    "start_time = time.time()\n",
    "request_count = 0   \n",
    "\n",
    "for track in track_info.track_uri:\n",
    "\n",
    "    feature_results = sp.audio_features(track)\n",
    "    \n",
    "    for i, t in enumerate(feature_results):\n",
    "        \n",
    "        try:\n",
    "            track_uri.append(t['uri'])\n",
    "        except:\n",
    "            track_uri.append(np.nan)\n",
    "        \n",
    "        try:\n",
    "            acousticness.append(t['acousticness'])\n",
    "        except:\n",
    "            acousticness.append(np.nan)\n",
    " \n",
    "        try:\n",
    "            danceability.append(t['danceability'])\n",
    "        except:\n",
    "            danceability.append(np.nan)\n",
    "       \n",
    "        try:\n",
    "            energy.append(t['energy'])\n",
    "        except:\n",
    "            energy.append(np.nan)\n",
    "        \n",
    "        try:\n",
    "            instrumentalness.append(t['instrumentalness'])\n",
    "        except:\n",
    "            instrumentalness.append(np.nan)\n",
    "            \n",
    "        try:\n",
    "            liveness.append(t['liveness'])\n",
    "        except:\n",
    "            liveness.append(np.nan)\n",
    "            \n",
    "        try:\n",
    "            loudness.append(t['loudness'])\n",
    "        except:\n",
    "            loudness.append(np.nan)\n",
    "             \n",
    "        try:\n",
    "            speechiness.append(t['speechiness'])\n",
    "        except:\n",
    "            speechiness.append(np.nan)\n",
    "             \n",
    "        try:\n",
    "            tempo.append(t['tempo'])\n",
    "        except:\n",
    "            tempo.append(np.nan)\n",
    "        \n",
    "        try:\n",
    "            valence.append(t['valence'])\n",
    "        except:\n",
    "            valence.append(np.nan)\n",
    "            \n",
    "        try:\n",
    "            track_uri.append(t['uri'])\n",
    "        except:\n",
    "            track_uri.append(np.nan)\n",
    "\n",
    "        try:\n",
    "            duration.append(t['duration_ms'])\n",
    "        except:\n",
    "            duration.append(np.nan)\n",
    "\n",
    "        try:\n",
    "            key.append(t['key'])\n",
    "        except:\n",
    "            key.append(np.nan)\n",
    "\n",
    "        try:\n",
    "            mode.append(t['mode'])\n",
    "        except:\n",
    "            mode.append(np.nan)\n",
    "\n",
    "        try:\n",
    "            time_signature.append(t['time_signature'])\n",
    "        except:\n",
    "            time_signature.append(np.nan)\n",
    "        \n",
    "        \n",
    "    request_count+=1\n",
    "    if request_count % 100 == 0:\n",
    "        print(str(request_count) + \" musical components completed\")\n",
    "        print('elapsed: {} seconds'.format(time.time() - start_time))\n"
   ]
  },
  {
   "cell_type": "markdown",
   "metadata": {},
   "source": [
    "### musical components df"
   ]
  },
  {
   "cell_type": "code",
   "execution_count": 617,
   "metadata": {},
   "outputs": [],
   "source": [
    "musical_components = pd.DataFrame({'track_uri':track_uri, 'acousticness':acousticness, 'danceability':danceability, \n",
    "                                   'energy' : energy, 'instrumentalness' : instrumentalness, 'liveness' : liveness, \n",
    "                                   'loudness' : loudness, 'speechiness' : speechiness, \n",
    "                                    'tempo' : tempo, 'valence' : valence})\n",
    "\n",
    "new_features = pd.DataFrame({'track_uri':track_uri,'duration':duration, 'key':key, 'mode':mode,\n",
    "                             'time_signature':time_signature})"
   ]
  },
  {
   "cell_type": "code",
   "execution_count": 628,
   "metadata": {},
   "outputs": [
    {
     "name": "stdout",
     "output_type": "stream",
     "text": [
      "75\n"
     ]
    }
   ],
   "source": [
    "print(len(musical_components[musical_components.duplicated(keep='first')]))\n",
    "musical_components.drop_duplicates(inplace=True)"
   ]
  },
  {
   "cell_type": "markdown",
   "metadata": {},
   "source": [
    "# merge track_all"
   ]
  },
  {
   "cell_type": "code",
   "execution_count": 663,
   "metadata": {},
   "outputs": [],
   "source": [
    "track_all = pd.merge(track_info, musical_components, left_on=\"track_uri\", right_on=\"track_uri\", how='inner')"
   ]
  },
  {
   "cell_type": "code",
   "execution_count": 75,
   "metadata": {
    "scrolled": true
   },
   "outputs": [
    {
     "data": {
      "text/plain": [
       "(21094, 15)"
      ]
     },
     "execution_count": 75,
     "metadata": {},
     "output_type": "execute_result"
    }
   ],
   "source": [
    "track_all.shape"
   ]
  },
  {
   "cell_type": "code",
   "execution_count": 667,
   "metadata": {},
   "outputs": [
    {
     "name": "stdout",
     "output_type": "stream",
     "text": [
      "0\n"
     ]
    }
   ],
   "source": [
    "print(len(track_all[track_all.duplicated(keep='first')]))"
   ]
  },
  {
   "cell_type": "code",
   "execution_count": 669,
   "metadata": {},
   "outputs": [
    {
     "data": {
      "text/plain": [
       "0"
      ]
     },
     "execution_count": 669,
     "metadata": {},
     "output_type": "execute_result"
    }
   ],
   "source": [
    "track_all.isnull().sum().sum()"
   ]
  },
  {
   "cell_type": "markdown",
   "metadata": {},
   "source": [
    "#### save tracks to csv"
   ]
  },
  {
   "cell_type": "code",
   "execution_count": 72,
   "metadata": {},
   "outputs": [],
   "source": [
    "track_all.to_csv('track_all_old', encoding='utf-8', index=False)\n",
    "track_all_new.to_csv('track_all_new', encoding='utf-8', index=False)"
   ]
  },
  {
   "cell_type": "markdown",
   "metadata": {},
   "source": [
    "#### load tracks from csv"
   ]
  },
  {
   "cell_type": "code",
   "execution_count": 170,
   "metadata": {},
   "outputs": [],
   "source": [
    "track_all_new = pd.read_csv('track_all_new')"
   ]
  },
  {
   "cell_type": "markdown",
   "metadata": {},
   "source": [
    "# *"
   ]
  },
  {
   "cell_type": "markdown",
   "metadata": {},
   "source": [
    "# part 5 - merge track_all + billboard_merged"
   ]
  },
  {
   "cell_type": "code",
   "execution_count": 97,
   "metadata": {},
   "outputs": [],
   "source": [
    "everything = pd.merge(billboard_merged.drop('billboard_artist', axis=1), track_all_new.drop(['original_artist'],  axis=1), \n",
    "          left_on=['spotify_artist', 'track_name'],\n",
    "          right_on=['artist', 'original_track'], how ='inner')"
   ]
  },
  {
   "cell_type": "code",
   "execution_count": 98,
   "metadata": {},
   "outputs": [
    {
     "data": {
      "text/plain": [
       "(236237, 29)"
      ]
     },
     "execution_count": 98,
     "metadata": {},
     "output_type": "execute_result"
    }
   ],
   "source": [
    "everything.shape"
   ]
  },
  {
   "cell_type": "code",
   "execution_count": 99,
   "metadata": {},
   "outputs": [
    {
     "data": {
      "text/plain": [
       "Index(['spotify_artist', 'track_name_x', 'artist_uri', 'genre',\n",
       "       'artist_popularity', 'followers', 'weekid', 'week_position', 'instance',\n",
       "       'weeks_on_chart', 'peak_position', 'original_track', 'artist',\n",
       "       'track_name_y', 'track_popularity', 'track_uri', 'acousticness',\n",
       "       'danceability', 'energy', 'instrumentalness', 'liveness', 'loudness',\n",
       "       'speechiness', 'tempo', 'valence', 'duration', 'key', 'mode',\n",
       "       'time_signature'],\n",
       "      dtype='object')"
      ]
     },
     "execution_count": 99,
     "metadata": {},
     "output_type": "execute_result"
    }
   ],
   "source": [
    "everything.columns"
   ]
  },
  {
   "cell_type": "markdown",
   "metadata": {},
   "source": [
    "#### nice presentation"
   ]
  },
  {
   "cell_type": "code",
   "execution_count": 101,
   "metadata": {},
   "outputs": [],
   "source": [
    "everything = everything[['spotify_artist', 'track_name_y', 'artist_popularity', 'followers', 'artist_uri', 'genre', \n",
    "                        'weekid', 'week_position', 'instance', 'weeks_on_chart','peak_position', \n",
    "                        'track_popularity', 'track_uri', 'acousticness', 'danceability',\n",
    "                        'energy', 'instrumentalness', 'liveness', 'loudness', 'speechiness',\n",
    "                        'tempo', 'valence', 'duration', 'key', 'mode','time_signature']]\n",
    "everything.rename(columns={'track_name_y': 'track_name', 'spotify_artist':'artist'}, inplace=True)\n",
    "everything['weekid'] = pd.to_datetime(everything['weekid'],format='%m/%d/%Y')"
   ]
  },
  {
   "cell_type": "markdown",
   "metadata": {},
   "source": [
    "#### make sure artists / tracks matched up "
   ]
  },
  {
   "cell_type": "code",
   "execution_count": 183,
   "metadata": {},
   "outputs": [
    {
     "name": "stdout",
     "output_type": "stream",
     "text": [
      "17693\n",
      "4323\n"
     ]
    }
   ],
   "source": [
    "print(len(everything.track_name.unique()))\n",
    "print(len(everything.artist.unique()))"
   ]
  },
  {
   "cell_type": "code",
   "execution_count": 125,
   "metadata": {},
   "outputs": [],
   "source": [
    "everything.drop_duplicates(keep='first', inplace=True)"
   ]
  },
  {
   "cell_type": "markdown",
   "metadata": {},
   "source": [
    "#### save tracks to csv"
   ]
  },
  {
   "cell_type": "code",
   "execution_count": 127,
   "metadata": {},
   "outputs": [],
   "source": [
    "everything.to_csv('everything_scraped_new', encoding='utf-8', index=False)"
   ]
  },
  {
   "cell_type": "markdown",
   "metadata": {},
   "source": [
    "#### load tracks from csv"
   ]
  },
  {
   "cell_type": "code",
   "execution_count": 3,
   "metadata": {},
   "outputs": [],
   "source": [
    "everything = pd.read_csv('everything_scraped_new')"
   ]
  },
  {
   "cell_type": "markdown",
   "metadata": {},
   "source": [
    "# ------------------------------------------------------------------------------------------------------------"
   ]
  },
  {
   "cell_type": "code",
   "execution_count": 6,
   "metadata": {
    "scrolled": true
   },
   "outputs": [
    {
     "data": {
      "text/html": [
       "<div>\n",
       "<style scoped>\n",
       "    .dataframe tbody tr th:only-of-type {\n",
       "        vertical-align: middle;\n",
       "    }\n",
       "\n",
       "    .dataframe tbody tr th {\n",
       "        vertical-align: top;\n",
       "    }\n",
       "\n",
       "    .dataframe thead th {\n",
       "        text-align: right;\n",
       "    }\n",
       "</style>\n",
       "<table border=\"1\" class=\"dataframe\">\n",
       "  <thead>\n",
       "    <tr style=\"text-align: right;\">\n",
       "      <th></th>\n",
       "      <th>artist</th>\n",
       "      <th>track_name</th>\n",
       "      <th>artist_popularity</th>\n",
       "      <th>followers</th>\n",
       "      <th>artist_uri</th>\n",
       "      <th>genre</th>\n",
       "      <th>weekid</th>\n",
       "      <th>week_position</th>\n",
       "      <th>instance</th>\n",
       "      <th>weeks_on_chart</th>\n",
       "      <th>peak_position</th>\n",
       "      <th>track_popularity</th>\n",
       "      <th>track_uri</th>\n",
       "      <th>acousticness</th>\n",
       "      <th>danceability</th>\n",
       "      <th>energy</th>\n",
       "      <th>instrumentalness</th>\n",
       "      <th>liveness</th>\n",
       "      <th>loudness</th>\n",
       "      <th>speechiness</th>\n",
       "      <th>tempo</th>\n",
       "      <th>valence</th>\n",
       "      <th>duration</th>\n",
       "      <th>key</th>\n",
       "      <th>mode</th>\n",
       "      <th>time_signature</th>\n",
       "    </tr>\n",
       "  </thead>\n",
       "  <tbody>\n",
       "    <tr>\n",
       "      <td>0</td>\n",
       "      <td>Jane Child</td>\n",
       "      <td>Welcome to the Real World</td>\n",
       "      <td>36.0</td>\n",
       "      <td>4884.0</td>\n",
       "      <td>spotify:artist:5JBif5ahOKFFVuEpHhrp8Y</td>\n",
       "      <td>['new wave pop']</td>\n",
       "      <td>1990-06-02</td>\n",
       "      <td>90</td>\n",
       "      <td>1</td>\n",
       "      <td>1</td>\n",
       "      <td>90</td>\n",
       "      <td>19.0</td>\n",
       "      <td>spotify:track:37o0UBywazf2Xcy3297Que</td>\n",
       "      <td>0.00703</td>\n",
       "      <td>0.625</td>\n",
       "      <td>0.721</td>\n",
       "      <td>0.000001</td>\n",
       "      <td>0.317</td>\n",
       "      <td>-12.512</td>\n",
       "      <td>0.0325</td>\n",
       "      <td>104.651</td>\n",
       "      <td>0.851</td>\n",
       "      <td>299640</td>\n",
       "      <td>8</td>\n",
       "      <td>0</td>\n",
       "      <td>4</td>\n",
       "    </tr>\n",
       "    <tr>\n",
       "      <td>1</td>\n",
       "      <td>Jane Child</td>\n",
       "      <td>Welcome to the Real World</td>\n",
       "      <td>36.0</td>\n",
       "      <td>4884.0</td>\n",
       "      <td>spotify:artist:5JBif5ahOKFFVuEpHhrp8Y</td>\n",
       "      <td>['new wave pop']</td>\n",
       "      <td>1990-06-09</td>\n",
       "      <td>77</td>\n",
       "      <td>1</td>\n",
       "      <td>2</td>\n",
       "      <td>77</td>\n",
       "      <td>19.0</td>\n",
       "      <td>spotify:track:37o0UBywazf2Xcy3297Que</td>\n",
       "      <td>0.00703</td>\n",
       "      <td>0.625</td>\n",
       "      <td>0.721</td>\n",
       "      <td>0.000001</td>\n",
       "      <td>0.317</td>\n",
       "      <td>-12.512</td>\n",
       "      <td>0.0325</td>\n",
       "      <td>104.651</td>\n",
       "      <td>0.851</td>\n",
       "      <td>299640</td>\n",
       "      <td>8</td>\n",
       "      <td>0</td>\n",
       "      <td>4</td>\n",
       "    </tr>\n",
       "    <tr>\n",
       "      <td>2</td>\n",
       "      <td>Jane Child</td>\n",
       "      <td>Welcome to the Real World</td>\n",
       "      <td>36.0</td>\n",
       "      <td>4884.0</td>\n",
       "      <td>spotify:artist:5JBif5ahOKFFVuEpHhrp8Y</td>\n",
       "      <td>['new wave pop']</td>\n",
       "      <td>1990-06-16</td>\n",
       "      <td>60</td>\n",
       "      <td>1</td>\n",
       "      <td>3</td>\n",
       "      <td>60</td>\n",
       "      <td>19.0</td>\n",
       "      <td>spotify:track:37o0UBywazf2Xcy3297Que</td>\n",
       "      <td>0.00703</td>\n",
       "      <td>0.625</td>\n",
       "      <td>0.721</td>\n",
       "      <td>0.000001</td>\n",
       "      <td>0.317</td>\n",
       "      <td>-12.512</td>\n",
       "      <td>0.0325</td>\n",
       "      <td>104.651</td>\n",
       "      <td>0.851</td>\n",
       "      <td>299640</td>\n",
       "      <td>8</td>\n",
       "      <td>0</td>\n",
       "      <td>4</td>\n",
       "    </tr>\n",
       "    <tr>\n",
       "      <td>3</td>\n",
       "      <td>Jane Child</td>\n",
       "      <td>Welcome to the Real World</td>\n",
       "      <td>36.0</td>\n",
       "      <td>4884.0</td>\n",
       "      <td>spotify:artist:5JBif5ahOKFFVuEpHhrp8Y</td>\n",
       "      <td>['new wave pop']</td>\n",
       "      <td>1990-06-23</td>\n",
       "      <td>56</td>\n",
       "      <td>1</td>\n",
       "      <td>4</td>\n",
       "      <td>56</td>\n",
       "      <td>19.0</td>\n",
       "      <td>spotify:track:37o0UBywazf2Xcy3297Que</td>\n",
       "      <td>0.00703</td>\n",
       "      <td>0.625</td>\n",
       "      <td>0.721</td>\n",
       "      <td>0.000001</td>\n",
       "      <td>0.317</td>\n",
       "      <td>-12.512</td>\n",
       "      <td>0.0325</td>\n",
       "      <td>104.651</td>\n",
       "      <td>0.851</td>\n",
       "      <td>299640</td>\n",
       "      <td>8</td>\n",
       "      <td>0</td>\n",
       "      <td>4</td>\n",
       "    </tr>\n",
       "  </tbody>\n",
       "</table>\n",
       "</div>"
      ],
      "text/plain": [
       "       artist                 track_name  artist_popularity  followers  \\\n",
       "0  Jane Child  Welcome to the Real World               36.0     4884.0   \n",
       "1  Jane Child  Welcome to the Real World               36.0     4884.0   \n",
       "2  Jane Child  Welcome to the Real World               36.0     4884.0   \n",
       "3  Jane Child  Welcome to the Real World               36.0     4884.0   \n",
       "\n",
       "                              artist_uri             genre      weekid  \\\n",
       "0  spotify:artist:5JBif5ahOKFFVuEpHhrp8Y  ['new wave pop']  1990-06-02   \n",
       "1  spotify:artist:5JBif5ahOKFFVuEpHhrp8Y  ['new wave pop']  1990-06-09   \n",
       "2  spotify:artist:5JBif5ahOKFFVuEpHhrp8Y  ['new wave pop']  1990-06-16   \n",
       "3  spotify:artist:5JBif5ahOKFFVuEpHhrp8Y  ['new wave pop']  1990-06-23   \n",
       "\n",
       "   week_position  instance  weeks_on_chart  peak_position  track_popularity  \\\n",
       "0             90         1               1             90              19.0   \n",
       "1             77         1               2             77              19.0   \n",
       "2             60         1               3             60              19.0   \n",
       "3             56         1               4             56              19.0   \n",
       "\n",
       "                              track_uri  acousticness  danceability  energy  \\\n",
       "0  spotify:track:37o0UBywazf2Xcy3297Que       0.00703         0.625   0.721   \n",
       "1  spotify:track:37o0UBywazf2Xcy3297Que       0.00703         0.625   0.721   \n",
       "2  spotify:track:37o0UBywazf2Xcy3297Que       0.00703         0.625   0.721   \n",
       "3  spotify:track:37o0UBywazf2Xcy3297Que       0.00703         0.625   0.721   \n",
       "\n",
       "   instrumentalness  liveness  loudness  speechiness    tempo  valence  \\\n",
       "0          0.000001     0.317   -12.512       0.0325  104.651    0.851   \n",
       "1          0.000001     0.317   -12.512       0.0325  104.651    0.851   \n",
       "2          0.000001     0.317   -12.512       0.0325  104.651    0.851   \n",
       "3          0.000001     0.317   -12.512       0.0325  104.651    0.851   \n",
       "\n",
       "   duration  key  mode  time_signature  \n",
       "0    299640    8     0               4  \n",
       "1    299640    8     0               4  \n",
       "2    299640    8     0               4  \n",
       "3    299640    8     0               4  "
      ]
     },
     "execution_count": 6,
     "metadata": {},
     "output_type": "execute_result"
    }
   ],
   "source": [
    "everything.head(4)"
   ]
  }
 ],
 "metadata": {
  "kernelspec": {
   "display_name": "Python 3",
   "language": "python",
   "name": "python3"
  },
  "language_info": {
   "codemirror_mode": {
    "name": "ipython",
    "version": 3
   },
   "file_extension": ".py",
   "mimetype": "text/x-python",
   "name": "python",
   "nbconvert_exporter": "python",
   "pygments_lexer": "ipython3",
   "version": "3.7.4"
  }
 },
 "nbformat": 4,
 "nbformat_minor": 2
}
