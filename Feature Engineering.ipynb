{
 "cells": [
  {
   "cell_type": "markdown",
   "metadata": {},
   "source": [
    "### continued from 'cleaning genre tags'..."
   ]
  },
  {
   "cell_type": "code",
   "execution_count": null,
   "metadata": {},
   "outputs": [],
   "source": [
    "df = pd.read_csv('everything_scraped_with_cleangenre')"
   ]
  },
  {
   "cell_type": "markdown",
   "metadata": {},
   "source": [
    "## just 1 rating for each track"
   ]
  },
  {
   "cell_type": "code",
   "execution_count": null,
   "metadata": {},
   "outputs": [],
   "source": [
    "# when we engineer the columns from Billboard charts, ideally we would have a time series style score for a track's progress\n",
    "# in the charts. However, because what we are predicting is stagnant: Spotify popularity from the time of the scrape (2019),\n",
    "# we cannot have a cumulative track longevity and artist familiarity score. If we were predicting the cumulative number of \n",
    "# plays then we would be able to have such a cumulative score. So. because of the data availible I will have 1 Billboard score \n",
    "# per track."
   ]
  },
  {
   "cell_type": "code",
   "execution_count": null,
   "metadata": {},
   "outputs": [],
   "source": [
    "# (more explanation about 'track longevity')"
   ]
  },
  {
   "cell_type": "code",
   "execution_count": 8,
   "metadata": {},
   "outputs": [],
   "source": [
    "just_one = df.drop(['month', 'year', 'rank_', 'weeks_on_chart', 'instance'], axis=1)\n",
    "just_one = just_one.drop_duplicates(subset='track_name', keep='first').reset_index(drop=True)"
   ]
  },
  {
   "cell_type": "code",
   "execution_count": 9,
   "metadata": {},
   "outputs": [
    {
     "data": {
      "text/plain": [
       "(16032, 20)"
      ]
     },
     "execution_count": 9,
     "metadata": {},
     "output_type": "execute_result"
    }
   ],
   "source": [
    "just_one.shape"
   ]
  },
  {
   "cell_type": "code",
   "execution_count": 10,
   "metadata": {},
   "outputs": [
    {
     "data": {
      "text/plain": [
       "2930"
      ]
     },
     "execution_count": 10,
     "metadata": {},
     "output_type": "execute_result"
    }
   ],
   "source": [
    "len(just_one.artist.unique())"
   ]
  },
  {
   "cell_type": "code",
   "execution_count": 11,
   "metadata": {},
   "outputs": [
    {
     "data": {
      "text/plain": [
       "16032"
      ]
     },
     "execution_count": 11,
     "metadata": {},
     "output_type": "execute_result"
    }
   ],
   "source": [
    "len(just_one.track_name.unique())"
   ]
  },
  {
   "cell_type": "markdown",
   "metadata": {},
   "source": [
    "# -----------------------------------------------------------------------------------------"
   ]
  },
  {
   "cell_type": "markdown",
   "metadata": {},
   "source": [
    "# feature engineering"
   ]
  },
  {
   "cell_type": "markdown",
   "metadata": {},
   "source": [
    "## track longevity"
   ]
  },
  {
   "cell_type": "markdown",
   "metadata": {},
   "source": [
    "#### (101 - rank) * weeks on chart"
   ]
  },
  {
   "cell_type": "code",
   "execution_count": 74,
   "metadata": {},
   "outputs": [
    {
     "data": {
      "text/html": [
       "<div>\n",
       "<style scoped>\n",
       "    .dataframe tbody tr th:only-of-type {\n",
       "        vertical-align: middle;\n",
       "    }\n",
       "\n",
       "    .dataframe tbody tr th {\n",
       "        vertical-align: top;\n",
       "    }\n",
       "\n",
       "    .dataframe thead th {\n",
       "        text-align: right;\n",
       "    }\n",
       "</style>\n",
       "<table border=\"1\" class=\"dataframe\">\n",
       "  <thead>\n",
       "    <tr style=\"text-align: right;\">\n",
       "      <th></th>\n",
       "      <th>artist</th>\n",
       "      <th>track_name</th>\n",
       "      <th>instance</th>\n",
       "      <th>weeks_on_chart</th>\n",
       "      <th>rank_</th>\n",
       "      <th>track_longevity</th>\n",
       "    </tr>\n",
       "  </thead>\n",
       "  <tbody>\n",
       "    <tr>\n",
       "      <td>244</td>\n",
       "      <td>AWOLNATION</td>\n",
       "      <td>Sail</td>\n",
       "      <td>1</td>\n",
       "      <td>20</td>\n",
       "      <td>90.050000</td>\n",
       "      <td>219.00000</td>\n",
       "    </tr>\n",
       "    <tr>\n",
       "      <td>245</td>\n",
       "      <td>AWOLNATION</td>\n",
       "      <td>Sail</td>\n",
       "      <td>2</td>\n",
       "      <td>79</td>\n",
       "      <td>36.959184</td>\n",
       "      <td>5059.22449</td>\n",
       "    </tr>\n",
       "  </tbody>\n",
       "</table>\n",
       "</div>"
      ],
      "text/plain": [
       "         artist track_name  instance  weeks_on_chart      rank_  \\\n",
       "244  AWOLNATION       Sail         1              20  90.050000   \n",
       "245  AWOLNATION       Sail         2              79  36.959184   \n",
       "\n",
       "     track_longevity  \n",
       "244        219.00000  \n",
       "245       5059.22449  "
      ]
     },
     "execution_count": 74,
     "metadata": {},
     "output_type": "execute_result"
    }
   ],
   "source": [
    "time = df[['artist', 'track_name', 'weekid', 'rank_', 'weeks_on_chart', 'instance']]\n",
    "rank_system = time.groupby(['artist','track_name', 'instance'])[['rank_', 'weeks_on_chart']].agg({\n",
    "    'weeks_on_chart': 'max', 'rank_':'mean'})\n",
    "rank_system.reset_index(inplace=True, drop=False)\n",
    "score = rank_system.weeks_on_chart * (101 - rank_system.rank_)\n",
    "rank_system['track_longevity'] = score\n",
    "rank_system[rank_system.track_name == 'Sail']"
   ]
  },
  {
   "cell_type": "markdown",
   "metadata": {},
   "source": [
    "#### sort out multiple instances"
   ]
  },
  {
   "cell_type": "code",
   "execution_count": 75,
   "metadata": {},
   "outputs": [
    {
     "data": {
      "text/html": [
       "<div>\n",
       "<style scoped>\n",
       "    .dataframe tbody tr th:only-of-type {\n",
       "        vertical-align: middle;\n",
       "    }\n",
       "\n",
       "    .dataframe tbody tr th {\n",
       "        vertical-align: top;\n",
       "    }\n",
       "\n",
       "    .dataframe thead th {\n",
       "        text-align: right;\n",
       "    }\n",
       "</style>\n",
       "<table border=\"1\" class=\"dataframe\">\n",
       "  <thead>\n",
       "    <tr style=\"text-align: right;\">\n",
       "      <th></th>\n",
       "      <th>artist</th>\n",
       "      <th>track_name</th>\n",
       "      <th>weeks_on_chart</th>\n",
       "      <th>rank_</th>\n",
       "      <th>track_longevity</th>\n",
       "    </tr>\n",
       "  </thead>\n",
       "  <tbody>\n",
       "    <tr>\n",
       "      <td>223</td>\n",
       "      <td>AWOLNATION</td>\n",
       "      <td>Sail</td>\n",
       "      <td>79</td>\n",
       "      <td>63.504592</td>\n",
       "      <td>5278.22449</td>\n",
       "    </tr>\n",
       "  </tbody>\n",
       "</table>\n",
       "</div>"
      ],
      "text/plain": [
       "         artist track_name  weeks_on_chart      rank_  track_longevity\n",
       "223  AWOLNATION       Sail              79  63.504592       5278.22449"
      ]
     },
     "execution_count": 75,
     "metadata": {},
     "output_type": "execute_result"
    }
   ],
   "source": [
    "instances = rank_system.groupby(['artist', 'track_name'])[['rank_', 'weeks_on_chart', 'track_longevity']].agg({\n",
    "    'weeks_on_chart': 'max', 'rank_':'mean', 'track_longevity':'sum'})\n",
    "instances.reset_index(inplace=True, drop=False)\n",
    "instances[instances.track_name == 'Sail']"
   ]
  },
  {
   "cell_type": "code",
   "execution_count": 131,
   "metadata": {},
   "outputs": [
    {
     "data": {
      "text/html": [
       "<div>\n",
       "<style scoped>\n",
       "    .dataframe tbody tr th:only-of-type {\n",
       "        vertical-align: middle;\n",
       "    }\n",
       "\n",
       "    .dataframe tbody tr th {\n",
       "        vertical-align: top;\n",
       "    }\n",
       "\n",
       "    .dataframe thead th {\n",
       "        text-align: right;\n",
       "    }\n",
       "</style>\n",
       "<table border=\"1\" class=\"dataframe\">\n",
       "  <thead>\n",
       "    <tr style=\"text-align: right;\">\n",
       "      <th></th>\n",
       "      <th>artist</th>\n",
       "      <th>track_name</th>\n",
       "      <th>track_longevity</th>\n",
       "      <th>spotify_track_pop</th>\n",
       "    </tr>\n",
       "  </thead>\n",
       "  <tbody>\n",
       "    <tr>\n",
       "      <td>353</td>\n",
       "      <td>Mariah Carey</td>\n",
       "      <td>All I Want for Christmas Is You</td>\n",
       "      <td>8702.2</td>\n",
       "      <td>88.0</td>\n",
       "    </tr>\n",
       "  </tbody>\n",
       "</table>\n",
       "</div>"
      ],
      "text/plain": [
       "           artist                       track_name  track_longevity  \\\n",
       "353  Mariah Carey  All I Want for Christmas Is You           8702.2   \n",
       "\n",
       "     spotify_track_pop  \n",
       "353               88.0  "
      ]
     },
     "execution_count": 131,
     "metadata": {},
     "output_type": "execute_result"
    }
   ],
   "source": [
    "just_one[just_one.artist == 'Mariah Carey'][just_one.track_name == 'All I Want for Christmas Is You'][['artist', 'track_name', 'track_longevity', 'spotify_track_pop']]"
   ]
  },
  {
   "cell_type": "code",
   "execution_count": 76,
   "metadata": {},
   "outputs": [
    {
     "data": {
      "text/html": [
       "<div>\n",
       "<style scoped>\n",
       "    .dataframe tbody tr th:only-of-type {\n",
       "        vertical-align: middle;\n",
       "    }\n",
       "\n",
       "    .dataframe tbody tr th {\n",
       "        vertical-align: top;\n",
       "    }\n",
       "\n",
       "    .dataframe thead th {\n",
       "        text-align: right;\n",
       "    }\n",
       "</style>\n",
       "<table border=\"1\" class=\"dataframe\">\n",
       "  <thead>\n",
       "    <tr style=\"text-align: right;\">\n",
       "      <th></th>\n",
       "      <th>artist</th>\n",
       "      <th>track_name</th>\n",
       "      <th>weeks_on_chart</th>\n",
       "      <th>rank_</th>\n",
       "      <th>track_longevity</th>\n",
       "    </tr>\n",
       "  </thead>\n",
       "  <tbody>\n",
       "    <tr>\n",
       "      <td>10079</td>\n",
       "      <td>Mark Ronson</td>\n",
       "      <td>Uptown Funk</td>\n",
       "      <td>56</td>\n",
       "      <td>17.100000</td>\n",
       "      <td>9308.000000</td>\n",
       "    </tr>\n",
       "    <tr>\n",
       "      <td>10021</td>\n",
       "      <td>Mariah Carey</td>\n",
       "      <td>All I Want for Christmas Is You</td>\n",
       "      <td>29</td>\n",
       "      <td>30.243750</td>\n",
       "      <td>8702.200000</td>\n",
       "    </tr>\n",
       "    <tr>\n",
       "      <td>886</td>\n",
       "      <td>Avicii</td>\n",
       "      <td>Wake Me Up</td>\n",
       "      <td>54</td>\n",
       "      <td>27.896226</td>\n",
       "      <td>7816.000000</td>\n",
       "    </tr>\n",
       "    <tr>\n",
       "      <td>2174</td>\n",
       "      <td>Brenda Lee</td>\n",
       "      <td>Rockin' Around The Christmas Tree</td>\n",
       "      <td>27</td>\n",
       "      <td>42.912500</td>\n",
       "      <td>7579.266667</td>\n",
       "    </tr>\n",
       "    <tr>\n",
       "      <td>12133</td>\n",
       "      <td>Queen</td>\n",
       "      <td>Bohemian Rhapsody - Remastered 2011</td>\n",
       "      <td>44</td>\n",
       "      <td>32.624183</td>\n",
       "      <td>7454.058824</td>\n",
       "    </tr>\n",
       "  </tbody>\n",
       "</table>\n",
       "</div>"
      ],
      "text/plain": [
       "             artist                           track_name  weeks_on_chart  \\\n",
       "10079   Mark Ronson                          Uptown Funk              56   \n",
       "10021  Mariah Carey      All I Want for Christmas Is You              29   \n",
       "886          Avicii                           Wake Me Up              54   \n",
       "2174     Brenda Lee    Rockin' Around The Christmas Tree              27   \n",
       "12133         Queen  Bohemian Rhapsody - Remastered 2011              44   \n",
       "\n",
       "           rank_  track_longevity  \n",
       "10079  17.100000      9308.000000  \n",
       "10021  30.243750      8702.200000  \n",
       "886    27.896226      7816.000000  \n",
       "2174   42.912500      7579.266667  \n",
       "12133  32.624183      7454.058824  "
      ]
     },
     "execution_count": 76,
     "metadata": {},
     "output_type": "execute_result"
    }
   ],
   "source": [
    "instances.sort_values(by='track_longevity', ascending=False).head()"
   ]
  },
  {
   "cell_type": "code",
   "execution_count": 1164,
   "metadata": {},
   "outputs": [],
   "source": [
    "just_one = pd.merge(just_one, instances[['artist', 'track_name', 'track_longevity']], how='inner', \n",
    "                    left_on=['artist','track_name'], \n",
    "                    right_on=['artist','track_name'])"
   ]
  },
  {
   "cell_type": "code",
   "execution_count": 67,
   "metadata": {},
   "outputs": [
    {
     "data": {
      "image/png": "[encoded data removed]",
      "text/plain": [
       "<Figure size 432x288 with 1 Axes>"
      ]
     },
     "metadata": {
      "image/png": {
       "height": 267,
       "width": 406
      }
     },
     "output_type": "display_data"
    }
   ],
   "source": [
    "just_one.track_longevity.hist(bins=30, color='y');\n",
    "plt.xlabel('long_longevity', fontsize=14)\n",
    "plt.ylabel('count', fontsize=14);"
   ]
  },
  {
   "cell_type": "markdown",
   "metadata": {},
   "source": [
    "#### showing Mariah Carey's cumulative track longevity (for presentation)"
   ]
  },
  {
   "cell_type": "code",
   "execution_count": 129,
   "metadata": {},
   "outputs": [
    {
     "data": {
      "text/html": [
       "<div>\n",
       "<style scoped>\n",
       "    .dataframe tbody tr th:only-of-type {\n",
       "        vertical-align: middle;\n",
       "    }\n",
       "\n",
       "    .dataframe tbody tr th {\n",
       "        vertical-align: top;\n",
       "    }\n",
       "\n",
       "    .dataframe thead th {\n",
       "        text-align: right;\n",
       "    }\n",
       "</style>\n",
       "<table border=\"1\" class=\"dataframe\">\n",
       "  <thead>\n",
       "    <tr style=\"text-align: right;\">\n",
       "      <th></th>\n",
       "      <th>track_longevity</th>\n",
       "      <th>artist</th>\n",
       "      <th>track_name</th>\n",
       "      <th>instance</th>\n",
       "      <th>weeks_on_chart</th>\n",
       "    </tr>\n",
       "  </thead>\n",
       "  <tbody>\n",
       "    <tr>\n",
       "      <td>10899</td>\n",
       "      <td>1045.000000</td>\n",
       "      <td>Mariah Carey</td>\n",
       "      <td>All I Want for Christmas Is You</td>\n",
       "      <td>1</td>\n",
       "      <td>1</td>\n",
       "    </tr>\n",
       "    <tr>\n",
       "      <td>10900</td>\n",
       "      <td>1349.000000</td>\n",
       "      <td>Mariah Carey</td>\n",
       "      <td>All I Want for Christmas Is You</td>\n",
       "      <td>2</td>\n",
       "      <td>4</td>\n",
       "    </tr>\n",
       "    <tr>\n",
       "      <td>10901</td>\n",
       "      <td>1871.666667</td>\n",
       "      <td>Mariah Carey</td>\n",
       "      <td>All I Want for Christmas Is You</td>\n",
       "      <td>3</td>\n",
       "      <td>7</td>\n",
       "    </tr>\n",
       "    <tr>\n",
       "      <td>10902</td>\n",
       "      <td>2465.000000</td>\n",
       "      <td>Mariah Carey</td>\n",
       "      <td>All I Want for Christmas Is You</td>\n",
       "      <td>4</td>\n",
       "      <td>10</td>\n",
       "    </tr>\n",
       "  </tbody>\n",
       "</table>\n",
       "</div>"
      ],
      "text/plain": [
       "       track_longevity        artist                       track_name  \\\n",
       "10899      1045.000000  Mariah Carey  All I Want for Christmas Is You   \n",
       "10900      1349.000000  Mariah Carey  All I Want for Christmas Is You   \n",
       "10901      1871.666667  Mariah Carey  All I Want for Christmas Is You   \n",
       "10902      2465.000000  Mariah Carey  All I Want for Christmas Is You   \n",
       "\n",
       "       instance  weeks_on_chart  \n",
       "10899         1               1  \n",
       "10900         2               4  \n",
       "10901         3               7  \n",
       "10902         4              10  "
      ]
     },
     "execution_count": 129,
     "metadata": {},
     "output_type": "execute_result"
    }
   ],
   "source": [
    "rank_system_grouped = rank_system.groupby(['artist'])[['track_longevity']].apply(lambda x: x.cumsum())\n",
    "rank_system_grouped['artist'] = rank_system.artist\n",
    "rank_system_grouped['artist'] = rank_system.artist\n",
    "rank_system_grouped['track_name'] = rank_system.track_name\n",
    "rank_system_grouped['instance'] = rank_system.instance\n",
    "rank_system_grouped['weeks_on_chart'] = rank_system.weeks_on_chart\n",
    "rank_system_grouped[rank_system_grouped.artist == 'Mariah Carey'].iloc[1:5]"
   ]
  },
  {
   "cell_type": "markdown",
   "metadata": {},
   "source": [
    "#### illustration of cumulative play counts (for presentation)"
   ]
  },
  {
   "cell_type": "code",
   "execution_count": null,
   "metadata": {},
   "outputs": [],
   "source": [
    "# cant use cumulative track longevity because as the track longevity gets higher, spotify_track_pop stays the same"
   ]
  },
  {
   "cell_type": "code",
   "execution_count": 122,
   "metadata": {},
   "outputs": [
    {
     "data": {
      "text/html": [
       "<div>\n",
       "<style scoped>\n",
       "    .dataframe tbody tr th:only-of-type {\n",
       "        vertical-align: middle;\n",
       "    }\n",
       "\n",
       "    .dataframe tbody tr th {\n",
       "        vertical-align: top;\n",
       "    }\n",
       "\n",
       "    .dataframe thead th {\n",
       "        text-align: right;\n",
       "    }\n",
       "</style>\n",
       "<table border=\"1\" class=\"dataframe\">\n",
       "  <thead>\n",
       "    <tr style=\"text-align: right;\">\n",
       "      <th></th>\n",
       "      <th>cumulative play count</th>\n",
       "    </tr>\n",
       "  </thead>\n",
       "  <tbody>\n",
       "    <tr>\n",
       "      <td>0</td>\n",
       "      <td>100000</td>\n",
       "    </tr>\n",
       "    <tr>\n",
       "      <td>1</td>\n",
       "      <td>300000</td>\n",
       "    </tr>\n",
       "    <tr>\n",
       "      <td>2</td>\n",
       "      <td>500000</td>\n",
       "    </tr>\n",
       "    <tr>\n",
       "      <td>3</td>\n",
       "      <td>900000</td>\n",
       "    </tr>\n",
       "  </tbody>\n",
       "</table>\n",
       "</div>"
      ],
      "text/plain": [
       "   cumulative play count\n",
       "0                 100000\n",
       "1                 300000\n",
       "2                 500000\n",
       "3                 900000"
      ]
     },
     "execution_count": 122,
     "metadata": {},
     "output_type": "execute_result"
    }
   ],
   "source": [
    "pd.DataFrame([100000, 300000, 500000, 900000], columns=['cumulative play count'])"
   ]
  },
  {
   "cell_type": "code",
   "execution_count": null,
   "metadata": {},
   "outputs": [],
   "source": [
    "# but if we were predicting this then the track longevity could be cumulative"
   ]
  },
  {
   "cell_type": "markdown",
   "metadata": {},
   "source": [
    "# -----------------------------------------------------------------------------------------"
   ]
  },
  {
   "cell_type": "markdown",
   "metadata": {},
   "source": [
    "## artist familiarity"
   ]
  },
  {
   "cell_type": "code",
   "execution_count": 1167,
   "metadata": {},
   "outputs": [
    {
     "data": {
      "text/html": [
       "<div>\n",
       "<style scoped>\n",
       "    .dataframe tbody tr th:only-of-type {\n",
       "        vertical-align: middle;\n",
       "    }\n",
       "\n",
       "    .dataframe tbody tr th {\n",
       "        vertical-align: top;\n",
       "    }\n",
       "\n",
       "    .dataframe thead th {\n",
       "        text-align: right;\n",
       "    }\n",
       "</style>\n",
       "<table border=\"1\" class=\"dataframe\">\n",
       "  <thead>\n",
       "    <tr style=\"text-align: right;\">\n",
       "      <th></th>\n",
       "      <th>artist</th>\n",
       "      <th>weeks_on_chart</th>\n",
       "      <th>rank_</th>\n",
       "      <th>artist_familiarity</th>\n",
       "    </tr>\n",
       "  </thead>\n",
       "  <tbody>\n",
       "    <tr>\n",
       "      <td>1135</td>\n",
       "      <td>Imagine Dragons</td>\n",
       "      <td>87</td>\n",
       "      <td>35.772111</td>\n",
       "      <td>12797.694306</td>\n",
       "    </tr>\n",
       "    <tr>\n",
       "      <td>1679</td>\n",
       "      <td>Mariah Carey</td>\n",
       "      <td>43</td>\n",
       "      <td>27.064091</td>\n",
       "      <td>12042.669534</td>\n",
       "    </tr>\n",
       "    <tr>\n",
       "      <td>55</td>\n",
       "      <td>Adele</td>\n",
       "      <td>65</td>\n",
       "      <td>42.552255</td>\n",
       "      <td>11524.813128</td>\n",
       "    </tr>\n",
       "    <tr>\n",
       "      <td>2472</td>\n",
       "      <td>Taylor Swift</td>\n",
       "      <td>50</td>\n",
       "      <td>46.010420</td>\n",
       "      <td>9060.457804</td>\n",
       "    </tr>\n",
       "    <tr>\n",
       "      <td>355</td>\n",
       "      <td>Brenda Lee</td>\n",
       "      <td>27</td>\n",
       "      <td>43.468948</td>\n",
       "      <td>8888.928710</td>\n",
       "    </tr>\n",
       "    <tr>\n",
       "      <td>1686</td>\n",
       "      <td>Mark Ronson</td>\n",
       "      <td>56</td>\n",
       "      <td>21.727941</td>\n",
       "      <td>8798.926471</td>\n",
       "    </tr>\n",
       "    <tr>\n",
       "      <td>799</td>\n",
       "      <td>Ed Sheeran</td>\n",
       "      <td>58</td>\n",
       "      <td>25.076357</td>\n",
       "      <td>8638.778940</td>\n",
       "    </tr>\n",
       "    <tr>\n",
       "      <td>1477</td>\n",
       "      <td>LMFAO</td>\n",
       "      <td>68</td>\n",
       "      <td>48.417853</td>\n",
       "      <td>8313.056452</td>\n",
       "    </tr>\n",
       "    <tr>\n",
       "      <td>1412</td>\n",
       "      <td>Kelly Clarkson</td>\n",
       "      <td>46</td>\n",
       "      <td>29.924248</td>\n",
       "      <td>8086.144212</td>\n",
       "    </tr>\n",
       "    <tr>\n",
       "      <td>828</td>\n",
       "      <td>Ellie Goulding</td>\n",
       "      <td>57</td>\n",
       "      <td>37.369444</td>\n",
       "      <td>8078.377577</td>\n",
       "    </tr>\n",
       "  </tbody>\n",
       "</table>\n",
       "</div>"
      ],
      "text/plain": [
       "               artist  weeks_on_chart      rank_  artist_familiarity\n",
       "1135  Imagine Dragons              87  35.772111        12797.694306\n",
       "1679     Mariah Carey              43  27.064091        12042.669534\n",
       "55              Adele              65  42.552255        11524.813128\n",
       "2472     Taylor Swift              50  46.010420         9060.457804\n",
       "355        Brenda Lee              27  43.468948         8888.928710\n",
       "1686      Mark Ronson              56  21.727941         8798.926471\n",
       "799        Ed Sheeran              58  25.076357         8638.778940\n",
       "1477            LMFAO              68  48.417853         8313.056452\n",
       "1412   Kelly Clarkson              46  29.924248         8086.144212\n",
       "828    Ellie Goulding              57  37.369444         8078.377577"
      ]
     },
     "execution_count": 1167,
     "metadata": {},
     "output_type": "execute_result"
    }
   ],
   "source": [
    "rank_system_2 = time.groupby(['artist', 'instance'])[['rank_', 'weeks_on_chart']].agg({\n",
    "    'weeks_on_chart': 'max', 'rank_':'mean'})\n",
    "rank_system_2.reset_index(inplace=True, drop=False)\n",
    "artist_fam = rank_system_2.weeks_on_chart * (101 - rank_system_2.rank_) \n",
    "rank_system_2['artist_familiarity'] = artist_fam\n",
    "palace = rank_system_2.groupby('artist')[['rank_', 'weeks_on_chart', 'artist_familiarity']].agg({\n",
    "    'weeks_on_chart': 'max', 'rank_':'mean', 'artist_familiarity':'sum'})\n",
    "palace.reset_index(inplace=True, drop=False)\n",
    "palace.sort_values(by='artist_familiarity', ascending = False).head(10)"
   ]
  },
  {
   "cell_type": "code",
   "execution_count": 1168,
   "metadata": {},
   "outputs": [],
   "source": [
    "just_one = pd.merge(just_one, palace[['artist', 'artist_familiarity']], how='inner', on='artist')"
   ]
  },
  {
   "cell_type": "code",
   "execution_count": 66,
   "metadata": {},
   "outputs": [
    {
     "data": {
      "image/png": "[encoded data removed]",
      "text/plain": [
       "<Figure size 432x288 with 1 Axes>"
      ]
     },
     "metadata": {
      "image/png": {
       "height": 267,
       "width": 407
      }
     },
     "output_type": "display_data"
    }
   ],
   "source": [
    "just_one.artist_familiarity.hist(bins=30, color='g');\n",
    "plt.xlabel('artist_familiarity', fontsize=14)\n",
    "plt.ylabel('count', fontsize=14);"
   ]
  },
  {
   "cell_type": "markdown",
   "metadata": {},
   "source": [
    "# -----------------------------------------------------------------------------------------"
   ]
  },
  {
   "cell_type": "markdown",
   "metadata": {},
   "source": [
    "## peak chart position"
   ]
  },
  {
   "cell_type": "code",
   "execution_count": 133,
   "metadata": {},
   "outputs": [
    {
     "data": {
      "text/html": [
       "<div>\n",
       "<style scoped>\n",
       "    .dataframe tbody tr th:only-of-type {\n",
       "        vertical-align: middle;\n",
       "    }\n",
       "\n",
       "    .dataframe tbody tr th {\n",
       "        vertical-align: top;\n",
       "    }\n",
       "\n",
       "    .dataframe thead th {\n",
       "        text-align: right;\n",
       "    }\n",
       "</style>\n",
       "<table border=\"1\" class=\"dataframe\">\n",
       "  <thead>\n",
       "    <tr style=\"text-align: right;\">\n",
       "      <th></th>\n",
       "      <th>artist</th>\n",
       "      <th>track_name</th>\n",
       "      <th>peak_rank</th>\n",
       "    </tr>\n",
       "  </thead>\n",
       "  <tbody>\n",
       "    <tr>\n",
       "      <td>111</td>\n",
       "      <td>50 Cent</td>\n",
       "      <td>21 Questions</td>\n",
       "      <td>1</td>\n",
       "    </tr>\n",
       "    <tr>\n",
       "      <td>114</td>\n",
       "      <td>50 Cent</td>\n",
       "      <td>Candy Shop</td>\n",
       "      <td>1</td>\n",
       "    </tr>\n",
       "    <tr>\n",
       "      <td>121</td>\n",
       "      <td>50 Cent</td>\n",
       "      <td>In Da Club</td>\n",
       "      <td>1</td>\n",
       "    </tr>\n",
       "    <tr>\n",
       "      <td>156</td>\n",
       "      <td>? &amp; The Mysterians</td>\n",
       "      <td>96 Tears</td>\n",
       "      <td>1</td>\n",
       "    </tr>\n",
       "    <tr>\n",
       "      <td>175</td>\n",
       "      <td>A Taste Of Honey</td>\n",
       "      <td>Boogie Oogie Oogie - Single Version 2 / Remast...</td>\n",
       "      <td>1</td>\n",
       "    </tr>\n",
       "  </tbody>\n",
       "</table>\n",
       "</div>"
      ],
      "text/plain": [
       "                 artist                                         track_name  \\\n",
       "111             50 Cent                                       21 Questions   \n",
       "114             50 Cent                                         Candy Shop   \n",
       "121             50 Cent                                         In Da Club   \n",
       "156  ? & The Mysterians                                           96 Tears   \n",
       "175    A Taste Of Honey  Boogie Oogie Oogie - Single Version 2 / Remast...   \n",
       "\n",
       "     peak_rank  \n",
       "111          1  \n",
       "114          1  \n",
       "121          1  \n",
       "156          1  \n",
       "175          1  "
      ]
     },
     "execution_count": 133,
     "metadata": {},
     "output_type": "execute_result"
    }
   ],
   "source": [
    "peak_system = time.groupby(['artist','track_name', 'instance'])['rank_'].agg({'rank_':'min'})\n",
    "peak_system.reset_index(inplace=True, drop=False)\n",
    "peak_system = peak_system.groupby(['artist', 'track_name'])['rank_'].agg({'peak_rank':'min'}) # sneaky way to rename\n",
    "peak_system.reset_index(inplace=True, drop=False)\n",
    "peak_system[peak_system.peak_rank == 1].head()"
   ]
  },
  {
   "cell_type": "code",
   "execution_count": 1271,
   "metadata": {},
   "outputs": [
    {
     "data": {
      "image/png": "[encoded data removed]",
      "text/plain": [
       "<Figure size 432x288 with 1 Axes>"
      ]
     },
     "metadata": {
      "image/png": {
       "height": 277,
       "width": 423
      },
      "needs_background": "light"
     },
     "output_type": "display_data"
    }
   ],
   "source": [
    "ax = sns.countplot(x=\"peak_rank\", data=just_one, palette = 'magma')\n",
    "ax.set_xticklabels(ax.get_xticklabels(), fontsize=4)\n",
    "plt.title('peak_rank')\n",
    "plt.tight_layout()\n",
    "plt.show()"
   ]
  },
  {
   "cell_type": "code",
   "execution_count": 1171,
   "metadata": {},
   "outputs": [],
   "source": [
    "just_one = pd.merge(just_one, peak_system[['artist', 'track_name', 'peak_rank']], how='inner', \n",
    "                    left_on=['artist','track_name'], \n",
    "                    right_on=['artist','track_name'])"
   ]
  },
  {
   "cell_type": "markdown",
   "metadata": {},
   "source": [
    "# -----------------------------------------------------------------------------------------"
   ]
  },
  {
   "cell_type": "markdown",
   "metadata": {},
   "source": [
    "### TIME SINCE FIRST CHARTING"
   ]
  },
  {
   "cell_type": "code",
   "execution_count": 1182,
   "metadata": {},
   "outputs": [],
   "source": [
    "just_one['weekid'] = pd.to_datetime(just_one.weekid, format='%Y%m%d', errors='coerce')\n",
    "just_one['time'] =  just_one.weekid.apply(lambda x: just_one.weekid.max().toordinal() - x.toordinal())"
   ]
  },
  {
   "cell_type": "markdown",
   "metadata": {},
   "source": [
    "# -----------------------------------------------------------------------------------------"
   ]
  },
  {
   "cell_type": "markdown",
   "metadata": {},
   "source": [
    "## genre dominance"
   ]
  },
  {
   "cell_type": "code",
   "execution_count": null,
   "metadata": {},
   "outputs": [],
   "source": [
    "# genre dominance would be very helpful for predicting a cumulative billboard popularity\n",
    "# but since we have had to have 1 row per song, this feature becomes useless because our model is no longer a timeseries \n",
    "# and it would be cheating to have the whole genre's total popularity for all 50 years as the 1 number in the row."
   ]
  },
  {
   "cell_type": "markdown",
   "metadata": {},
   "source": [
    "#### percentage of songs by genre \n"
   ]
  },
  {
   "cell_type": "code",
   "execution_count": 53,
   "metadata": {},
   "outputs": [
    {
     "data": {
      "text/html": [
       "<div>\n",
       "<style scoped>\n",
       "    .dataframe tbody tr th:only-of-type {\n",
       "        vertical-align: middle;\n",
       "    }\n",
       "\n",
       "    .dataframe tbody tr th {\n",
       "        vertical-align: top;\n",
       "    }\n",
       "\n",
       "    .dataframe thead th {\n",
       "        text-align: right;\n",
       "    }\n",
       "</style>\n",
       "<table border=\"1\" class=\"dataframe\">\n",
       "  <thead>\n",
       "    <tr style=\"text-align: right;\">\n",
       "      <th></th>\n",
       "      <th>adult standards</th>\n",
       "      <th>blues</th>\n",
       "      <th>classical</th>\n",
       "      <th>country</th>\n",
       "      <th>dance</th>\n",
       "      <th>dancehall</th>\n",
       "      <th>disco</th>\n",
       "      <th>electronic</th>\n",
       "      <th>folk</th>\n",
       "      <th>freestyle</th>\n",
       "      <th>funk</th>\n",
       "      <th>grunge</th>\n",
       "      <th>hip hop</th>\n",
       "      <th>house</th>\n",
       "      <th>indie</th>\n",
       "      <th>jazz</th>\n",
       "      <th>metal</th>\n",
       "      <th>pop</th>\n",
       "      <th>punk</th>\n",
       "      <th>rap</th>\n",
       "      <th>reggae</th>\n",
       "      <th>rock</th>\n",
       "      <th>ska</th>\n",
       "      <th>soul</th>\n",
       "      <th>trance</th>\n",
       "      <th>trap</th>\n",
       "    </tr>\n",
       "    <tr>\n",
       "      <th>weekid</th>\n",
       "      <th></th>\n",
       "      <th></th>\n",
       "      <th></th>\n",
       "      <th></th>\n",
       "      <th></th>\n",
       "      <th></th>\n",
       "      <th></th>\n",
       "      <th></th>\n",
       "      <th></th>\n",
       "      <th></th>\n",
       "      <th></th>\n",
       "      <th></th>\n",
       "      <th></th>\n",
       "      <th></th>\n",
       "      <th></th>\n",
       "      <th></th>\n",
       "      <th></th>\n",
       "      <th></th>\n",
       "      <th></th>\n",
       "      <th></th>\n",
       "      <th></th>\n",
       "      <th></th>\n",
       "      <th></th>\n",
       "      <th></th>\n",
       "      <th></th>\n",
       "      <th></th>\n",
       "    </tr>\n",
       "  </thead>\n",
       "  <tbody>\n",
       "    <tr>\n",
       "      <td>1958-08-02</td>\n",
       "      <td>0</td>\n",
       "      <td>0</td>\n",
       "      <td>0</td>\n",
       "      <td>7</td>\n",
       "      <td>0</td>\n",
       "      <td>0</td>\n",
       "      <td>0</td>\n",
       "      <td>0</td>\n",
       "      <td>0</td>\n",
       "      <td>0</td>\n",
       "      <td>0</td>\n",
       "      <td>0</td>\n",
       "      <td>1</td>\n",
       "      <td>0</td>\n",
       "      <td>0</td>\n",
       "      <td>0</td>\n",
       "      <td>2</td>\n",
       "      <td>12</td>\n",
       "      <td>0</td>\n",
       "      <td>3</td>\n",
       "      <td>0</td>\n",
       "      <td>18</td>\n",
       "      <td>0</td>\n",
       "      <td>2</td>\n",
       "      <td>0</td>\n",
       "      <td>0</td>\n",
       "    </tr>\n",
       "    <tr>\n",
       "      <td>1958-08-09</td>\n",
       "      <td>0</td>\n",
       "      <td>1</td>\n",
       "      <td>0</td>\n",
       "      <td>10</td>\n",
       "      <td>0</td>\n",
       "      <td>0</td>\n",
       "      <td>0</td>\n",
       "      <td>0</td>\n",
       "      <td>0</td>\n",
       "      <td>0</td>\n",
       "      <td>0</td>\n",
       "      <td>0</td>\n",
       "      <td>2</td>\n",
       "      <td>0</td>\n",
       "      <td>0</td>\n",
       "      <td>0</td>\n",
       "      <td>2</td>\n",
       "      <td>12</td>\n",
       "      <td>0</td>\n",
       "      <td>3</td>\n",
       "      <td>1</td>\n",
       "      <td>18</td>\n",
       "      <td>0</td>\n",
       "      <td>4</td>\n",
       "      <td>0</td>\n",
       "      <td>0</td>\n",
       "    </tr>\n",
       "    <tr>\n",
       "      <td>1958-08-16</td>\n",
       "      <td>0</td>\n",
       "      <td>0</td>\n",
       "      <td>1</td>\n",
       "      <td>7</td>\n",
       "      <td>0</td>\n",
       "      <td>0</td>\n",
       "      <td>0</td>\n",
       "      <td>0</td>\n",
       "      <td>0</td>\n",
       "      <td>0</td>\n",
       "      <td>0</td>\n",
       "      <td>0</td>\n",
       "      <td>1</td>\n",
       "      <td>0</td>\n",
       "      <td>0</td>\n",
       "      <td>0</td>\n",
       "      <td>2</td>\n",
       "      <td>14</td>\n",
       "      <td>0</td>\n",
       "      <td>2</td>\n",
       "      <td>0</td>\n",
       "      <td>14</td>\n",
       "      <td>0</td>\n",
       "      <td>2</td>\n",
       "      <td>0</td>\n",
       "      <td>0</td>\n",
       "    </tr>\n",
       "  </tbody>\n",
       "</table>\n",
       "</div>"
      ],
      "text/plain": [
       "            adult standards  blues  classical  country  dance  dancehall  \\\n",
       "weekid                                                                     \n",
       "1958-08-02                0      0          0        7      0          0   \n",
       "1958-08-09                0      1          0       10      0          0   \n",
       "1958-08-16                0      0          1        7      0          0   \n",
       "\n",
       "            disco  electronic  folk  freestyle  funk  grunge  hip hop  house  \\\n",
       "weekid                                                                         \n",
       "1958-08-02      0           0     0          0     0       0        1      0   \n",
       "1958-08-09      0           0     0          0     0       0        2      0   \n",
       "1958-08-16      0           0     0          0     0       0        1      0   \n",
       "\n",
       "            indie  jazz  metal  pop  punk  rap  reggae  rock  ska  soul  \\\n",
       "weekid                                                                    \n",
       "1958-08-02      0     0      2   12     0    3       0    18    0     2   \n",
       "1958-08-09      0     0      2   12     0    3       1    18    0     4   \n",
       "1958-08-16      0     0      2   14     0    2       0    14    0     2   \n",
       "\n",
       "            trance  trap  \n",
       "weekid                    \n",
       "1958-08-02       0     0  \n",
       "1958-08-09       0     0  \n",
       "1958-08-16       0     0  "
      ]
     },
     "execution_count": 53,
     "metadata": {},
     "output_type": "execute_result"
    }
   ],
   "source": [
    "genre_dummy = pd.get_dummies(df['genre'])\n",
    "song_date = df.weekid\n",
    "song_date = genre_dummy.join(song_date)\n",
    "song_group = song_date.groupby('weekid').agg('sum')\n",
    "song_group.head(3)"
   ]
  },
  {
   "cell_type": "code",
   "execution_count": 957,
   "metadata": {},
   "outputs": [
    {
     "data": {
      "text/html": [
       "<div>\n",
       "<style scoped>\n",
       "    .dataframe tbody tr th:only-of-type {\n",
       "        vertical-align: middle;\n",
       "    }\n",
       "\n",
       "    .dataframe tbody tr th {\n",
       "        vertical-align: top;\n",
       "    }\n",
       "\n",
       "    .dataframe thead th {\n",
       "        text-align: right;\n",
       "    }\n",
       "</style>\n",
       "<table border=\"1\" class=\"dataframe\">\n",
       "  <thead>\n",
       "    <tr style=\"text-align: right;\">\n",
       "      <th></th>\n",
       "      <th>adult standards</th>\n",
       "      <th>blues</th>\n",
       "      <th>classical</th>\n",
       "      <th>country</th>\n",
       "      <th>dance</th>\n",
       "      <th>dancehall</th>\n",
       "      <th>disco</th>\n",
       "      <th>electronic</th>\n",
       "      <th>folk</th>\n",
       "      <th>freestyle</th>\n",
       "      <th>funk</th>\n",
       "      <th>grunge</th>\n",
       "      <th>hip hop</th>\n",
       "      <th>house</th>\n",
       "      <th>indie</th>\n",
       "      <th>jazz</th>\n",
       "      <th>metal</th>\n",
       "      <th>pop</th>\n",
       "      <th>punk</th>\n",
       "      <th>rap</th>\n",
       "      <th>reggae</th>\n",
       "      <th>rock</th>\n",
       "      <th>ska</th>\n",
       "      <th>soul</th>\n",
       "      <th>trance</th>\n",
       "      <th>trap</th>\n",
       "    </tr>\n",
       "    <tr>\n",
       "      <th>weekid</th>\n",
       "      <th></th>\n",
       "      <th></th>\n",
       "      <th></th>\n",
       "      <th></th>\n",
       "      <th></th>\n",
       "      <th></th>\n",
       "      <th></th>\n",
       "      <th></th>\n",
       "      <th></th>\n",
       "      <th></th>\n",
       "      <th></th>\n",
       "      <th></th>\n",
       "      <th></th>\n",
       "      <th></th>\n",
       "      <th></th>\n",
       "      <th></th>\n",
       "      <th></th>\n",
       "      <th></th>\n",
       "      <th></th>\n",
       "      <th></th>\n",
       "      <th></th>\n",
       "      <th></th>\n",
       "      <th></th>\n",
       "      <th></th>\n",
       "      <th></th>\n",
       "      <th></th>\n",
       "    </tr>\n",
       "  </thead>\n",
       "  <tbody>\n",
       "    <tr>\n",
       "      <td>1958-08-02</td>\n",
       "      <td>0.0</td>\n",
       "      <td>0.0</td>\n",
       "      <td>0.0</td>\n",
       "      <td>0.125</td>\n",
       "      <td>0.0</td>\n",
       "      <td>0.0</td>\n",
       "      <td>0.0</td>\n",
       "      <td>0.0</td>\n",
       "      <td>0.0</td>\n",
       "      <td>0.0</td>\n",
       "      <td>0.0</td>\n",
       "      <td>0.0</td>\n",
       "      <td>0.017857</td>\n",
       "      <td>0.0</td>\n",
       "      <td>0.0</td>\n",
       "      <td>0.0</td>\n",
       "      <td>0.053571</td>\n",
       "      <td>0.339286</td>\n",
       "      <td>0.0</td>\n",
       "      <td>0.071429</td>\n",
       "      <td>0.0</td>\n",
       "      <td>0.321429</td>\n",
       "      <td>0.0</td>\n",
       "      <td>0.071429</td>\n",
       "      <td>0.0</td>\n",
       "      <td>0.0</td>\n",
       "    </tr>\n",
       "  </tbody>\n",
       "</table>\n",
       "</div>"
      ],
      "text/plain": [
       "            adult standards  blues  classical  country  dance  dancehall  \\\n",
       "weekid                                                                     \n",
       "1958-08-02              0.0    0.0        0.0    0.125    0.0        0.0   \n",
       "\n",
       "            disco  electronic  folk  freestyle  funk  grunge   hip hop  house  \\\n",
       "weekid                                                                          \n",
       "1958-08-02    0.0         0.0   0.0        0.0   0.0     0.0  0.017857    0.0   \n",
       "\n",
       "            indie  jazz     metal       pop  punk       rap  reggae      rock  \\\n",
       "weekid                                                                          \n",
       "1958-08-02    0.0   0.0  0.053571  0.339286   0.0  0.071429     0.0  0.321429   \n",
       "\n",
       "            ska      soul  trance  trap  \n",
       "weekid                                   \n",
       "1958-08-02  0.0  0.071429     0.0   0.0  "
      ]
     },
     "execution_count": 957,
     "metadata": {},
     "output_type": "execute_result"
    }
   ],
   "source": [
    "percentages = {}\n",
    "for genre in song_group.columns:    \n",
    "    percentages[genre] = song_group.apply(lambda x: x[genre]/sum(x), axis=1)\n",
    "genre_percent = pd.DataFrame(percentages)\n",
    "genre_percent.head(1)"
   ]
  },
  {
   "cell_type": "code",
   "execution_count": 958,
   "metadata": {},
   "outputs": [],
   "source": [
    "df_new = pd.merge(df[['genre', 'weekid']], genre_percent, left_on='weekid', right_on=genre_percent.index, how='inner')"
   ]
  },
  {
   "cell_type": "code",
   "execution_count": 959,
   "metadata": {},
   "outputs": [
    {
     "data": {
      "text/html": [
       "<div>\n",
       "<style scoped>\n",
       "    .dataframe tbody tr th:only-of-type {\n",
       "        vertical-align: middle;\n",
       "    }\n",
       "\n",
       "    .dataframe tbody tr th {\n",
       "        vertical-align: top;\n",
       "    }\n",
       "\n",
       "    .dataframe thead th {\n",
       "        text-align: right;\n",
       "    }\n",
       "</style>\n",
       "<table border=\"1\" class=\"dataframe\">\n",
       "  <thead>\n",
       "    <tr style=\"text-align: right;\">\n",
       "      <th></th>\n",
       "      <th>genre_percent</th>\n",
       "    </tr>\n",
       "  </thead>\n",
       "  <tbody>\n",
       "    <tr>\n",
       "      <td>0</td>\n",
       "      <td>0.298969</td>\n",
       "    </tr>\n",
       "    <tr>\n",
       "      <td>1</td>\n",
       "      <td>0.298969</td>\n",
       "    </tr>\n",
       "    <tr>\n",
       "      <td>2</td>\n",
       "      <td>0.298969</td>\n",
       "    </tr>\n",
       "    <tr>\n",
       "      <td>3</td>\n",
       "      <td>0.288660</td>\n",
       "    </tr>\n",
       "    <tr>\n",
       "      <td>4</td>\n",
       "      <td>0.010309</td>\n",
       "    </tr>\n",
       "  </tbody>\n",
       "</table>\n",
       "</div>"
      ],
      "text/plain": [
       "   genre_percent\n",
       "0       0.298969\n",
       "1       0.298969\n",
       "2       0.298969\n",
       "3       0.288660\n",
       "4       0.010309"
      ]
     },
     "execution_count": 959,
     "metadata": {},
     "output_type": "execute_result"
    }
   ],
   "source": [
    "def find_genre(x):\n",
    "    matched = x['genre']\n",
    "    return x[matched]\n",
    "genre_percent = df_new.apply(lambda x: find_genre(x), axis=1)\n",
    "genre_percent = pd.DataFrame({'genre_percent':genre_percent})\n",
    "genre_percent.head()"
   ]
  },
  {
   "cell_type": "code",
   "execution_count": 960,
   "metadata": {},
   "outputs": [],
   "source": [
    "df.reset_index(inplace=True, drop=True)\n",
    "genre_percent.reset_index(inplace=True, drop=True)\n",
    "df = pd.merge(df, genre_percent, left_on=df.index, right_on=genre_percent.index)\n",
    "df.drop(['key_0'], inplace=True, axis=1)"
   ]
  },
  {
   "cell_type": "markdown",
   "metadata": {},
   "source": [
    "#### save tracks to csv"
   ]
  },
  {
   "cell_type": "code",
   "execution_count": 1186,
   "metadata": {},
   "outputs": [],
   "source": [
    "just_one.to_csv('ready_to_model_just_one', encoding='utf-8', index=False)"
   ]
  },
  {
   "cell_type": "markdown",
   "metadata": {},
   "source": [
    "#### load tracks from csv"
   ]
  },
  {
   "cell_type": "code",
   "execution_count": 14,
   "metadata": {},
   "outputs": [],
   "source": [
    "just_one = pd.read_csv('ready_to_model_just_one')"
   ]
  }
 ],
 "metadata": {
  "kernelspec": {
   "display_name": "Python 3",
   "language": "python",
   "name": "python3"
  },
  "language_info": {
   "codemirror_mode": {
    "name": "ipython",
    "version": 3
   },
   "file_extension": ".py",
   "mimetype": "text/x-python",
   "name": "python",
   "nbconvert_exporter": "python",
   "pygments_lexer": "ipython3",
   "version": "3.7.4"
  }
 },
 "nbformat": 4,
 "nbformat_minor": 2
}
