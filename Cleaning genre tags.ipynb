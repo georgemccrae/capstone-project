{
 "cells": [
  {
   "cell_type": "code",
   "execution_count": null,
   "metadata": {},
   "outputs": [],
   "source": [
    "import numpy as np\n",
    "import pandas as pd\n",
    "pd.set_option('display.max_columns', 50)\n",
    "pd.set_option('display.max_rows', 50 )\n",
    "import matplotlib.pyplot as plt\n",
    "import seaborn as sns\n",
    "sns.set(style=\"white\") \n",
    "\n",
    "sns.set(font_scale=1.5)\n",
    "%config InlineBackend.figure_format = 'retina'\n",
    "%matplotlib inline"
   ]
  },
  {
   "cell_type": "markdown",
   "metadata": {},
   "source": [
    "# genre"
   ]
  },
  {
   "cell_type": "code",
   "execution_count": 1277,
   "metadata": {},
   "outputs": [],
   "source": [
    "everything = pd.read_csv('everything_scraped_new')"
   ]
  },
  {
   "cell_type": "code",
   "execution_count": 1278,
   "metadata": {},
   "outputs": [
    {
     "data": {
      "text/html": [
       "<div>\n",
       "<style scoped>\n",
       "    .dataframe tbody tr th:only-of-type {\n",
       "        vertical-align: middle;\n",
       "    }\n",
       "\n",
       "    .dataframe tbody tr th {\n",
       "        vertical-align: top;\n",
       "    }\n",
       "\n",
       "    .dataframe thead th {\n",
       "        text-align: right;\n",
       "    }\n",
       "</style>\n",
       "<table border=\"1\" class=\"dataframe\">\n",
       "  <thead>\n",
       "    <tr style=\"text-align: right;\">\n",
       "      <th></th>\n",
       "      <th>artist</th>\n",
       "      <th>track_name</th>\n",
       "      <th>artist_popularity</th>\n",
       "      <th>followers</th>\n",
       "      <th>artist_uri</th>\n",
       "      <th>genre</th>\n",
       "      <th>weekid</th>\n",
       "      <th>week_position</th>\n",
       "      <th>instance</th>\n",
       "      <th>weeks_on_chart</th>\n",
       "      <th>peak_position</th>\n",
       "      <th>track_popularity</th>\n",
       "      <th>track_uri</th>\n",
       "      <th>acousticness</th>\n",
       "      <th>danceability</th>\n",
       "      <th>energy</th>\n",
       "      <th>instrumentalness</th>\n",
       "      <th>liveness</th>\n",
       "      <th>loudness</th>\n",
       "      <th>speechiness</th>\n",
       "      <th>tempo</th>\n",
       "      <th>valence</th>\n",
       "      <th>duration</th>\n",
       "      <th>key</th>\n",
       "      <th>mode</th>\n",
       "      <th>time_signature</th>\n",
       "    </tr>\n",
       "  </thead>\n",
       "  <tbody>\n",
       "    <tr>\n",
       "      <td>0</td>\n",
       "      <td>Jane Child</td>\n",
       "      <td>Welcome to the Real World</td>\n",
       "      <td>36.0</td>\n",
       "      <td>4884.0</td>\n",
       "      <td>spotify:artist:5JBif5ahOKFFVuEpHhrp8Y</td>\n",
       "      <td>['new wave pop']</td>\n",
       "      <td>1990-06-02</td>\n",
       "      <td>90</td>\n",
       "      <td>1</td>\n",
       "      <td>1</td>\n",
       "      <td>90</td>\n",
       "      <td>19.0</td>\n",
       "      <td>spotify:track:37o0UBywazf2Xcy3297Que</td>\n",
       "      <td>0.00703</td>\n",
       "      <td>0.625</td>\n",
       "      <td>0.721</td>\n",
       "      <td>0.000001</td>\n",
       "      <td>0.317</td>\n",
       "      <td>-12.512</td>\n",
       "      <td>0.0325</td>\n",
       "      <td>104.651</td>\n",
       "      <td>0.851</td>\n",
       "      <td>299640</td>\n",
       "      <td>8</td>\n",
       "      <td>0</td>\n",
       "      <td>4</td>\n",
       "    </tr>\n",
       "    <tr>\n",
       "      <td>1</td>\n",
       "      <td>Jane Child</td>\n",
       "      <td>Welcome to the Real World</td>\n",
       "      <td>36.0</td>\n",
       "      <td>4884.0</td>\n",
       "      <td>spotify:artist:5JBif5ahOKFFVuEpHhrp8Y</td>\n",
       "      <td>['new wave pop']</td>\n",
       "      <td>1990-06-09</td>\n",
       "      <td>77</td>\n",
       "      <td>1</td>\n",
       "      <td>2</td>\n",
       "      <td>77</td>\n",
       "      <td>19.0</td>\n",
       "      <td>spotify:track:37o0UBywazf2Xcy3297Que</td>\n",
       "      <td>0.00703</td>\n",
       "      <td>0.625</td>\n",
       "      <td>0.721</td>\n",
       "      <td>0.000001</td>\n",
       "      <td>0.317</td>\n",
       "      <td>-12.512</td>\n",
       "      <td>0.0325</td>\n",
       "      <td>104.651</td>\n",
       "      <td>0.851</td>\n",
       "      <td>299640</td>\n",
       "      <td>8</td>\n",
       "      <td>0</td>\n",
       "      <td>4</td>\n",
       "    </tr>\n",
       "  </tbody>\n",
       "</table>\n",
       "</div>"
      ],
      "text/plain": [
       "       artist                 track_name  artist_popularity  followers  \\\n",
       "0  Jane Child  Welcome to the Real World               36.0     4884.0   \n",
       "1  Jane Child  Welcome to the Real World               36.0     4884.0   \n",
       "\n",
       "                              artist_uri             genre      weekid  \\\n",
       "0  spotify:artist:5JBif5ahOKFFVuEpHhrp8Y  ['new wave pop']  1990-06-02   \n",
       "1  spotify:artist:5JBif5ahOKFFVuEpHhrp8Y  ['new wave pop']  1990-06-09   \n",
       "\n",
       "   week_position  instance  weeks_on_chart  peak_position  track_popularity  \\\n",
       "0             90         1               1             90              19.0   \n",
       "1             77         1               2             77              19.0   \n",
       "\n",
       "                              track_uri  acousticness  danceability  energy  \\\n",
       "0  spotify:track:37o0UBywazf2Xcy3297Que       0.00703         0.625   0.721   \n",
       "1  spotify:track:37o0UBywazf2Xcy3297Que       0.00703         0.625   0.721   \n",
       "\n",
       "   instrumentalness  liveness  loudness  speechiness    tempo  valence  \\\n",
       "0          0.000001     0.317   -12.512       0.0325  104.651    0.851   \n",
       "1          0.000001     0.317   -12.512       0.0325  104.651    0.851   \n",
       "\n",
       "   duration  key  mode  time_signature  \n",
       "0    299640    8     0               4  \n",
       "1    299640    8     0               4  "
      ]
     },
     "execution_count": 1278,
     "metadata": {},
     "output_type": "execute_result"
    }
   ],
   "source": [
    "everything.head(2)"
   ]
  },
  {
   "cell_type": "markdown",
   "metadata": {},
   "source": [
    "## explore"
   ]
  },
  {
   "cell_type": "markdown",
   "metadata": {},
   "source": [
    "lets remove all songs without a genre tag"
   ]
  },
  {
   "cell_type": "code",
   "execution_count": 422,
   "metadata": {},
   "outputs": [
    {
     "name": "stdout",
     "output_type": "stream",
     "text": [
      "(236237, 26)\n",
      "(227839, 26)\n"
     ]
    }
   ],
   "source": [
    "print(everything.shape)\n",
    "everything = everything[everything.genre != '[]']\n",
    "print(everything.shape)"
   ]
  },
  {
   "cell_type": "markdown",
   "metadata": {},
   "source": [
    "we can see that each artist has multiple genre tags"
   ]
  },
  {
   "cell_type": "code",
   "execution_count": 423,
   "metadata": {},
   "outputs": [
    {
     "name": "stdout",
     "output_type": "stream",
     "text": [
      "['new wave pop']\n",
      "['dance pop', 'pop', 'pop rap', 'post-teen pop', 'urban contemporary']\n",
      "['pop', 'pop rock']\n",
      "['adult standards', 'disco', 'mellow gold', 'soft rock']\n",
      "['dance pop', 'latin pop', 'new wave pop', 'soft rock']\n"
     ]
    }
   ],
   "source": [
    "for x in everything.genre.unique()[:5]:\n",
    "    print(x)"
   ]
  },
  {
   "cell_type": "markdown",
   "metadata": {},
   "source": [
    "## method 1"
   ]
  },
  {
   "cell_type": "markdown",
   "metadata": {},
   "source": [
    "so lets count vectorise and manually look at columns with most "
   ]
  },
  {
   "cell_type": "code",
   "execution_count": 424,
   "metadata": {
    "scrolled": true
   },
   "outputs": [],
   "source": [
    "from sklearn.feature_extraction.text import CountVectorizer\n",
    "cvec = CountVectorizer(strip_accents='unicode', ngram_range=(1, 1))\n",
    "cvec_sparse = cvec.fit_transform(everything.genre)\n",
    "df_cvec  = pd.DataFrame(cvec_sparse.todense(), columns=cvec.get_feature_names())"
   ]
  },
  {
   "cell_type": "code",
   "execution_count": 425,
   "metadata": {},
   "outputs": [
    {
     "data": {
      "text/html": [
       "<div>\n",
       "<style scoped>\n",
       "    .dataframe tbody tr th:only-of-type {\n",
       "        vertical-align: middle;\n",
       "    }\n",
       "\n",
       "    .dataframe tbody tr th {\n",
       "        vertical-align: top;\n",
       "    }\n",
       "\n",
       "    .dataframe thead th {\n",
       "        text-align: right;\n",
       "    }\n",
       "</style>\n",
       "<table border=\"1\" class=\"dataframe\">\n",
       "  <thead>\n",
       "    <tr style=\"text-align: right;\">\n",
       "      <th></th>\n",
       "      <th>counts</th>\n",
       "    </tr>\n",
       "  </thead>\n",
       "  <tbody>\n",
       "    <tr>\n",
       "      <td>rock</td>\n",
       "      <td>303619</td>\n",
       "    </tr>\n",
       "    <tr>\n",
       "      <td>pop</td>\n",
       "      <td>256455</td>\n",
       "    </tr>\n",
       "    <tr>\n",
       "      <td>country</td>\n",
       "      <td>97503</td>\n",
       "    </tr>\n",
       "    <tr>\n",
       "      <td>rap</td>\n",
       "      <td>79766</td>\n",
       "    </tr>\n",
       "    <tr>\n",
       "      <td>hip</td>\n",
       "      <td>74553</td>\n",
       "    </tr>\n",
       "    <tr>\n",
       "      <td>soul</td>\n",
       "      <td>62874</td>\n",
       "    </tr>\n",
       "    <tr>\n",
       "      <td>hop</td>\n",
       "      <td>57893</td>\n",
       "    </tr>\n",
       "    <tr>\n",
       "      <td>dance</td>\n",
       "      <td>53860</td>\n",
       "    </tr>\n",
       "    <tr>\n",
       "      <td>classic</td>\n",
       "      <td>50577</td>\n",
       "    </tr>\n",
       "    <tr>\n",
       "      <td>mellow</td>\n",
       "      <td>48196</td>\n",
       "    </tr>\n",
       "    <tr>\n",
       "      <td>new</td>\n",
       "      <td>46339</td>\n",
       "    </tr>\n",
       "    <tr>\n",
       "      <td>contemporary</td>\n",
       "      <td>45642</td>\n",
       "    </tr>\n",
       "    <tr>\n",
       "      <td>folk</td>\n",
       "      <td>45284</td>\n",
       "    </tr>\n",
       "    <tr>\n",
       "      <td>gold</td>\n",
       "      <td>39984</td>\n",
       "    </tr>\n",
       "    <tr>\n",
       "      <td>soft</td>\n",
       "      <td>39964</td>\n",
       "    </tr>\n",
       "    <tr>\n",
       "      <td>wave</td>\n",
       "      <td>31488</td>\n",
       "    </tr>\n",
       "    <tr>\n",
       "      <td>post</td>\n",
       "      <td>29570</td>\n",
       "    </tr>\n",
       "    <tr>\n",
       "      <td>standards</td>\n",
       "      <td>29166</td>\n",
       "    </tr>\n",
       "    <tr>\n",
       "      <td>adult</td>\n",
       "      <td>29166</td>\n",
       "    </tr>\n",
       "    <tr>\n",
       "      <td>urban</td>\n",
       "      <td>25624</td>\n",
       "    </tr>\n",
       "  </tbody>\n",
       "</table>\n",
       "</div>"
      ],
      "text/plain": [
       "              counts\n",
       "rock          303619\n",
       "pop           256455\n",
       "country        97503\n",
       "rap            79766\n",
       "hip            74553\n",
       "soul           62874\n",
       "hop            57893\n",
       "dance          53860\n",
       "classic        50577\n",
       "mellow         48196\n",
       "new            46339\n",
       "contemporary   45642\n",
       "folk           45284\n",
       "gold           39984\n",
       "soft           39964\n",
       "wave           31488\n",
       "post           29570\n",
       "standards      29166\n",
       "adult          29166\n",
       "urban          25624"
      ]
     },
     "execution_count": 425,
     "metadata": {},
     "output_type": "execute_result"
    }
   ],
   "source": [
    "total = pd.DataFrame(df_cvec.sum(), columns=['counts']).T.T\n",
    "total.sort_values('counts', ascending=False).head(20)"
   ]
  },
  {
   "cell_type": "code",
   "execution_count": null,
   "metadata": {},
   "outputs": [],
   "source": [
    "for x in everything_clean_genre.genre.unique():\n",
    "    print(x)"
   ]
  },
  {
   "cell_type": "markdown",
   "metadata": {},
   "source": [
    "## 1.1 non-binary count vectoriser"
   ]
  },
  {
   "cell_type": "code",
   "execution_count": null,
   "metadata": {},
   "outputs": [],
   "source": [
    "one_word = [ 'r&b','rock', 'metal', 'grunge', 'punk', 'pop', 'house', 'electronic', 'trance', 'dance', \n",
    "                 'country', 'folk', 'jazz', 'blues', 'soul', 'disco', 'funk', 'trap', 'rap', 'freestyle', \n",
    "                  'indie', 'classical', 'ska', 'reggae', 'dancehall', 'hip hop', 'adult standards']\n",
    "two_words = [one_word.pop() for i in range(0,2)] # (hiphop/adult standards)"
   ]
  },
  {
   "cell_type": "code",
   "execution_count": 511,
   "metadata": {},
   "outputs": [],
   "source": [
    "cvec = CountVectorizer(token_pattern='\\w+',vocabulary = one_word , binary=False, ngram_range=(1, 1))\n",
    "cvec_sparse = cvec.fit_transform(everything.genre)\n",
    "df_cvec_1 = pd.DataFrame(cvec_sparse.todense(), columns=cvec.get_feature_names())"
   ]
  },
  {
   "cell_type": "code",
   "execution_count": 512,
   "metadata": {},
   "outputs": [],
   "source": [
    "cvec = CountVectorizer(token_pattern='\\w+',vocabulary=two_words, binary=False, ngram_range=(2, 2))\n",
    "cvec_sparse = cvec.fit_transform(everything.genre)\n",
    "df_cvec_2  = pd.DataFrame(cvec_sparse.todense(), columns=cvec.get_feature_names())"
   ]
  },
  {
   "cell_type": "code",
   "execution_count": 513,
   "metadata": {},
   "outputs": [],
   "source": [
    "df_cvec_3 = pd.merge(df_cvec_1, df_cvec_2, left_on=df_cvec_1.index, right_on=df_cvec_2.index, how='inner' )\n",
    "df_cvec_3.drop(['key_0'], inplace=True, axis=1)"
   ]
  },
  {
   "cell_type": "code",
   "execution_count": 514,
   "metadata": {},
   "outputs": [
    {
     "data": {
      "text/html": [
       "<div>\n",
       "<style scoped>\n",
       "    .dataframe tbody tr th:only-of-type {\n",
       "        vertical-align: middle;\n",
       "    }\n",
       "\n",
       "    .dataframe tbody tr th {\n",
       "        vertical-align: top;\n",
       "    }\n",
       "\n",
       "    .dataframe thead th {\n",
       "        text-align: right;\n",
       "    }\n",
       "</style>\n",
       "<table border=\"1\" class=\"dataframe\">\n",
       "  <thead>\n",
       "    <tr style=\"text-align: right;\">\n",
       "      <th></th>\n",
       "      <th>r&amp;b</th>\n",
       "      <th>rock</th>\n",
       "      <th>metal</th>\n",
       "      <th>grunge</th>\n",
       "      <th>punk</th>\n",
       "      <th>pop</th>\n",
       "      <th>house</th>\n",
       "      <th>electronic</th>\n",
       "      <th>trance</th>\n",
       "      <th>dance</th>\n",
       "      <th>...</th>\n",
       "      <th>trap</th>\n",
       "      <th>rap</th>\n",
       "      <th>freestyle</th>\n",
       "      <th>indie</th>\n",
       "      <th>classical</th>\n",
       "      <th>ska</th>\n",
       "      <th>reggae</th>\n",
       "      <th>dancehall</th>\n",
       "      <th>adult standards</th>\n",
       "      <th>hip hop</th>\n",
       "    </tr>\n",
       "  </thead>\n",
       "  <tbody>\n",
       "    <tr>\n",
       "      <td>0</td>\n",
       "      <td>0</td>\n",
       "      <td>0</td>\n",
       "      <td>0</td>\n",
       "      <td>0</td>\n",
       "      <td>0</td>\n",
       "      <td>1</td>\n",
       "      <td>0</td>\n",
       "      <td>0</td>\n",
       "      <td>0</td>\n",
       "      <td>0</td>\n",
       "      <td>...</td>\n",
       "      <td>0</td>\n",
       "      <td>0</td>\n",
       "      <td>0</td>\n",
       "      <td>0</td>\n",
       "      <td>0</td>\n",
       "      <td>0</td>\n",
       "      <td>0</td>\n",
       "      <td>0</td>\n",
       "      <td>0</td>\n",
       "      <td>0</td>\n",
       "    </tr>\n",
       "    <tr>\n",
       "      <td>1</td>\n",
       "      <td>0</td>\n",
       "      <td>0</td>\n",
       "      <td>0</td>\n",
       "      <td>0</td>\n",
       "      <td>0</td>\n",
       "      <td>1</td>\n",
       "      <td>0</td>\n",
       "      <td>0</td>\n",
       "      <td>0</td>\n",
       "      <td>0</td>\n",
       "      <td>...</td>\n",
       "      <td>0</td>\n",
       "      <td>0</td>\n",
       "      <td>0</td>\n",
       "      <td>0</td>\n",
       "      <td>0</td>\n",
       "      <td>0</td>\n",
       "      <td>0</td>\n",
       "      <td>0</td>\n",
       "      <td>0</td>\n",
       "      <td>0</td>\n",
       "    </tr>\n",
       "    <tr>\n",
       "      <td>2</td>\n",
       "      <td>0</td>\n",
       "      <td>0</td>\n",
       "      <td>0</td>\n",
       "      <td>0</td>\n",
       "      <td>0</td>\n",
       "      <td>1</td>\n",
       "      <td>0</td>\n",
       "      <td>0</td>\n",
       "      <td>0</td>\n",
       "      <td>0</td>\n",
       "      <td>...</td>\n",
       "      <td>0</td>\n",
       "      <td>0</td>\n",
       "      <td>0</td>\n",
       "      <td>0</td>\n",
       "      <td>0</td>\n",
       "      <td>0</td>\n",
       "      <td>0</td>\n",
       "      <td>0</td>\n",
       "      <td>0</td>\n",
       "      <td>0</td>\n",
       "    </tr>\n",
       "    <tr>\n",
       "      <td>3</td>\n",
       "      <td>0</td>\n",
       "      <td>0</td>\n",
       "      <td>0</td>\n",
       "      <td>0</td>\n",
       "      <td>0</td>\n",
       "      <td>1</td>\n",
       "      <td>0</td>\n",
       "      <td>0</td>\n",
       "      <td>0</td>\n",
       "      <td>0</td>\n",
       "      <td>...</td>\n",
       "      <td>0</td>\n",
       "      <td>0</td>\n",
       "      <td>0</td>\n",
       "      <td>0</td>\n",
       "      <td>0</td>\n",
       "      <td>0</td>\n",
       "      <td>0</td>\n",
       "      <td>0</td>\n",
       "      <td>0</td>\n",
       "      <td>0</td>\n",
       "    </tr>\n",
       "    <tr>\n",
       "      <td>4</td>\n",
       "      <td>0</td>\n",
       "      <td>0</td>\n",
       "      <td>0</td>\n",
       "      <td>0</td>\n",
       "      <td>0</td>\n",
       "      <td>1</td>\n",
       "      <td>0</td>\n",
       "      <td>0</td>\n",
       "      <td>0</td>\n",
       "      <td>0</td>\n",
       "      <td>...</td>\n",
       "      <td>0</td>\n",
       "      <td>0</td>\n",
       "      <td>0</td>\n",
       "      <td>0</td>\n",
       "      <td>0</td>\n",
       "      <td>0</td>\n",
       "      <td>0</td>\n",
       "      <td>0</td>\n",
       "      <td>0</td>\n",
       "      <td>0</td>\n",
       "    </tr>\n",
       "  </tbody>\n",
       "</table>\n",
       "<p>5 rows × 27 columns</p>\n",
       "</div>"
      ],
      "text/plain": [
       "   r&b  rock  metal  grunge  punk  pop  house  electronic  trance  dance  ...  \\\n",
       "0    0     0      0       0     0    1      0           0       0      0  ...   \n",
       "1    0     0      0       0     0    1      0           0       0      0  ...   \n",
       "2    0     0      0       0     0    1      0           0       0      0  ...   \n",
       "3    0     0      0       0     0    1      0           0       0      0  ...   \n",
       "4    0     0      0       0     0    1      0           0       0      0  ...   \n",
       "\n",
       "   trap  rap  freestyle  indie  classical  ska  reggae  dancehall  \\\n",
       "0     0    0          0      0          0    0       0          0   \n",
       "1     0    0          0      0          0    0       0          0   \n",
       "2     0    0          0      0          0    0       0          0   \n",
       "3     0    0          0      0          0    0       0          0   \n",
       "4     0    0          0      0          0    0       0          0   \n",
       "\n",
       "   adult standards  hip hop  \n",
       "0                0        0  \n",
       "1                0        0  \n",
       "2                0        0  \n",
       "3                0        0  \n",
       "4                0        0  \n",
       "\n",
       "[5 rows x 27 columns]"
      ]
     },
     "execution_count": 514,
     "metadata": {},
     "output_type": "execute_result"
    }
   ],
   "source": [
    "df_cvec_3.head()"
   ]
  },
  {
   "cell_type": "code",
   "execution_count": 515,
   "metadata": {},
   "outputs": [
    {
     "data": {
      "text/plain": [
       "Index(['r&b', 'rock', 'metal', 'grunge', 'punk', 'pop', 'house', 'electronic',\n",
       "       'trance', 'dance', 'country', 'folk', 'jazz', 'blues', 'soul', 'disco',\n",
       "       'funk', 'trap', 'rap', 'freestyle', 'indie', 'classical', 'ska',\n",
       "       'reggae', 'dancehall', 'adult standards', 'hip hop'],\n",
       "      dtype='object')"
      ]
     },
     "execution_count": 515,
     "metadata": {},
     "output_type": "execute_result"
    }
   ],
   "source": [
    "df_cvec_3.columns"
   ]
  },
  {
   "cell_type": "code",
   "execution_count": 516,
   "metadata": {},
   "outputs": [],
   "source": [
    "def find_common(x):\n",
    "    highest_col=0\n",
    "    column_name=None\n",
    "    for column in df_cvec_3.columns:\n",
    "        if highest_col<x[column]:\n",
    "            highest_col=x[column]\n",
    "            column_name=column\n",
    "    return column_name\n",
    "df_cvec_3['most_common']=df_cvec_3.apply(find_common,axis=1)"
   ]
  },
  {
   "cell_type": "code",
   "execution_count": 517,
   "metadata": {},
   "outputs": [
    {
     "data": {
      "text/plain": [
       "rock               71623\n",
       "pop                66013\n",
       "country            23834\n",
       "soul               16621\n",
       "rap                14883\n",
       "hip hop             4846\n",
       "disco               3838\n",
       "metal               2943\n",
       "jazz                2830\n",
       "house               2665\n",
       "adult standards     2469\n",
       "blues               2122\n",
       "folk                1715\n",
       "funk                1621\n",
       "freestyle           1213\n",
       "reggae               719\n",
       "punk                 559\n",
       "trap                 543\n",
       "dance                295\n",
       "electronic           147\n",
       "dancehall            132\n",
       "indie                 77\n",
       "trance                61\n",
       "grunge                55\n",
       "ska                   52\n",
       "classical             14\n",
       "Name: most_common, dtype: int64"
      ]
     },
     "execution_count": 517,
     "metadata": {},
     "output_type": "execute_result"
    }
   ],
   "source": [
    "df_cvec_3.most_common.value_counts()"
   ]
  },
  {
   "cell_type": "code",
   "execution_count": 170,
   "metadata": {},
   "outputs": [
    {
     "data": {
      "image/png": "[encoded data removed]",
      "text/plain": [
       "<Figure size 1800x432 with 1 Axes>"
      ]
     },
     "metadata": {
      "image/png": {
       "height": 375,
       "width": 1464
      }
     },
     "output_type": "display_data"
    }
   ],
   "source": [
    "f, ax = plt.subplots(figsize=(25, 6))\n",
    "sns.set_color_codes(\"muted\")\n",
    "sns.countplot(x='genre', data=df, orient=\"v\");"
   ]
  },
  {
   "cell_type": "code",
   "execution_count": null,
   "metadata": {},
   "outputs": [],
   "source": [
    "# this loop shows all the songs that weren't matched (too long to print for github)\n",
    "for x in df_cvec_3.most_common.isnull()[df_cvec_3.most_common.isnull() == True].index:\n",
    "    if everything.genre.iloc[x] != '[]':\n",
    "        print(everything.iloc[x, :].genre)"
   ]
  },
  {
   "cell_type": "markdown",
   "metadata": {},
   "source": [
    "## join"
   ]
  },
  {
   "cell_type": "code",
   "execution_count": 519,
   "metadata": {},
   "outputs": [],
   "source": [
    "everything = everything.join(df_cvec_3.most_common)"
   ]
  },
  {
   "cell_type": "code",
   "execution_count": null,
   "metadata": {},
   "outputs": [],
   "source": [
    "everything.drop_duplicates(keep='first', inplace=True)"
   ]
  },
  {
   "cell_type": "markdown",
   "metadata": {},
   "source": [
    "# -----------------------------------------------------------------------------------------"
   ]
  },
  {
   "cell_type": "markdown",
   "metadata": {},
   "source": [
    "# final cleaning"
   ]
  },
  {
   "cell_type": "code",
   "execution_count": 5,
   "metadata": {},
   "outputs": [],
   "source": [
    "df = everything.drop(['artist_uri', 'track_uri', 'genre'], axis=1)\n",
    "df.rename(columns={'most_common': 'genre', 'track_popularity':'spotify_track_pop','week_position':'rank_',\n",
    "                  'artist_popularity': 'spot_artist_popularity', 'followers':'spot_followers'}, \n",
    "                                                                                            inplace=True)\n",
    "df['weekid'] = pd.to_datetime(df['weekid'],format='%Y/%m/%d')\n",
    "df['month'] = df.weekid.map(lambda x: x.month )\n",
    "df['year'] = df.weekid.map(lambda x: x.year )\n",
    "\n",
    "df = df[['artist', 'track_name', 'spotify_track_pop', \n",
    "         'genre', 'spot_artist_popularity', 'spot_followers', \n",
    "         'weekid', 'month', 'year','rank_', 'weeks_on_chart', 'instance', \n",
    "         'acousticness','danceability', 'energy', 'instrumentalness','liveness','loudness','speechiness',\n",
    "         'tempo','valence', 'duration', 'key', 'mode', 'time_signature'\n",
    "        ]]"
   ]
  },
  {
   "cell_type": "markdown",
   "metadata": {},
   "source": [
    "#### drop 12424 genres not matched"
   ]
  },
  {
   "cell_type": "code",
   "execution_count": 7,
   "metadata": {},
   "outputs": [
    {
     "name": "stdout",
     "output_type": "stream",
     "text": [
      "(227832, 25)\n",
      "(215408, 25)\n"
     ]
    }
   ],
   "source": [
    "print(df.shape)\n",
    "df.dropna(inplace=True)\n",
    "print(df.shape)"
   ]
  },
  {
   "cell_type": "markdown",
   "metadata": {},
   "source": [
    "#### save tracks to csv"
   ]
  },
  {
   "cell_type": "code",
   "execution_count": 893,
   "metadata": {},
   "outputs": [],
   "source": [
    "df.to_csv('everything_scraped_genre_1st_try', encoding='utf-8', index=False)"
   ]
  }
 ],
 "metadata": {
  "kernelspec": {
   "display_name": "Python 3",
   "language": "python",
   "name": "python3"
  },
  "language_info": {
   "codemirror_mode": {
    "name": "ipython",
    "version": 3
   },
   "file_extension": ".py",
   "mimetype": "text/x-python",
   "name": "python",
   "nbconvert_exporter": "python",
   "pygments_lexer": "ipython3",
   "version": "3.7.4"
  }
 },
 "nbformat": 4,
 "nbformat_minor": 2
}
